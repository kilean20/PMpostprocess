{
 "cells": [
  {
   "cell_type": "code",
   "execution_count": 1,
   "id": "79195d1a-e20f-40e3-b5a2-5d805a42d03d",
   "metadata": {},
   "outputs": [],
   "source": [
    "import sys\n",
    "import os\n",
    "import glob\n",
    "import math\n",
    "import numpy as np\n",
    "import pandas as pd\n",
    "import matplotlib.pyplot as plt\n",
    "from IPython.display import HTML, display\n",
    "import logging\n",
    "logging.basicConfig(\n",
    "    level=logging.INFO,  # Set the minimum logging level to INFO\n",
    "    format='%(asctime)s - %(name)s - %(levelname)s - %(message)s'\n",
    ")"
   ]
  },
  {
   "cell_type": "code",
   "execution_count": null,
   "id": "765bab2f",
   "metadata": {},
   "outputs": [],
   "source": []
  },
  {
   "cell_type": "code",
   "execution_count": 2,
   "id": "3e40e0d5",
   "metadata": {},
   "outputs": [
    {
     "name": "stdout",
     "output_type": "stream",
     "text": [
      "profilemonitor_plot_util start\n"
     ]
    }
   ],
   "source": [
    "sys.path.append('../')\n",
    "from PMpostprocess import PMpostprocess as pp\n",
    "from PMpostprocess import signal_processing as sp"
   ]
  },
  {
   "cell_type": "code",
   "execution_count": null,
   "id": "68cea010",
   "metadata": {},
   "outputs": [],
   "source": []
  },
  {
   "cell_type": "code",
   "execution_count": 3,
   "id": "fbc6ebfd",
   "metadata": {},
   "outputs": [
    {
     "name": "stdout",
     "output_type": "stream",
     "text": [
      "FRIB_model version: 1.0.0. updated on 2024-03-05\n"
     ]
    }
   ],
   "source": [
    "sys.path.append('../../')\n",
    "from FRIB_model import ISAAC_helper as ih\n",
    "from FRIB_model import flame_helper as fh"
   ]
  },
  {
   "cell_type": "code",
   "execution_count": 4,
   "id": "1e6be0a7",
   "metadata": {},
   "outputs": [],
   "source": [
    "import warnings\n",
    "from contextlib import contextmanager\n",
    "\n",
    "@contextmanager\n",
    "def capture_warnings():\n",
    "    \"\"\"\n",
    "    A context manager to capture and print warnings within a block of code.\n",
    "    \"\"\"\n",
    "    with warnings.catch_warnings(record=True) as caught_warnings:\n",
    "        warnings.simplefilter(\"always\")  # Always capture warnings\n",
    "        yield  # Allow code execution within the context\n",
    "        for w in caught_warnings:\n",
    "            print(f\"Warning message: {w.message}\")\n",
    "            print(f\"Warning type: {w.category.__name__}\")\n",
    "            print(f\"Originated from: {w.filename}, line {w.lineno}\")"
   ]
  },
  {
   "cell_type": "code",
   "execution_count": 5,
   "id": "fd55f281",
   "metadata": {},
   "outputs": [],
   "source": [
    "ISAAC_database_path = \"/home/devuser/sf_HWANG/Workspace/BPM4pickup/ISAAC_data_PMver0\""
   ]
  },
  {
   "cell_type": "code",
   "execution_count": 6,
   "id": "afb48536",
   "metadata": {},
   "outputs": [
    {
     "data": {
      "text/html": [
       "<h3>20240618_141713_hwang_FS1_CSS_PM_D2225_pv_scan</h3>"
      ],
      "text/plain": [
       "<IPython.core.display.HTML object>"
      ]
     },
     "metadata": {},
     "output_type": "display_data"
    },
    {
     "name": "stdout",
     "output_type": "stream",
     "text": [
      "0-th trial, current_loss: 0.00269, best_loss: 0.00269\n",
      "2-th trial, current_loss: 0.00255, best_loss: 0.00255\n"
     ]
    },
    {
     "data": {
      "text/html": [
       "<h3>20240629_083236_maruta_FS1_CSS_PM_D2225_pv_scan</h3>"
      ],
      "text/plain": [
       "<IPython.core.display.HTML object>"
      ]
     },
     "metadata": {},
     "output_type": "display_data"
    },
    {
     "name": "stdout",
     "output_type": "stream",
     "text": [
      "0-th trial, current_loss: 0.00308, best_loss: 0.00308\n",
      "2-th trial, current_loss: 0.00308, best_loss: 0.00308\n"
     ]
    },
    {
     "data": {
      "text/html": [
       "<h3>20240629_085226_maruta_FS1_CSS_PM_D2225_pv_scan</h3>"
      ],
      "text/plain": [
       "<IPython.core.display.HTML object>"
      ]
     },
     "metadata": {},
     "output_type": "display_data"
    },
    {
     "data": {
      "text/html": [
       "<h3>20240701_150840_zhao_FS1_CSS_PM_D2225_pv_scan_107Ag22_22.4MeVu</h3>"
      ],
      "text/plain": [
       "<IPython.core.display.HTML object>"
      ]
     },
     "metadata": {},
     "output_type": "display_data"
    },
    {
     "name": "stdout",
     "output_type": "stream",
     "text": [
      "0-th trial, current_loss: 0.00545, best_loss: 0.00545\n",
      "2-th trial, current_loss: 0.00545, best_loss: 0.00545\n"
     ]
    },
    {
     "data": {
      "text/html": [
       "<h3>20240715_125422_ostroumo_FS1_CSS_PM_D2225_pv_scan</h3>"
      ],
      "text/plain": [
       "<IPython.core.display.HTML object>"
      ]
     },
     "metadata": {},
     "output_type": "display_data"
    },
    {
     "name": "stdout",
     "output_type": "stream",
     "text": [
      "0-th trial, current_loss: 0.011, best_loss: 0.011\n",
      "2-th trial, current_loss: 0.011, best_loss: 0.011\n"
     ]
    },
    {
     "data": {
      "text/html": [
       "<h3>20240715_155856_maruta_FS1_CSS_PM_D2225_pv_scan_nouse</h3>"
      ],
      "text/plain": [
       "<IPython.core.display.HTML object>"
      ]
     },
     "metadata": {},
     "output_type": "display_data"
    },
    {
     "data": {
      "text/html": [
       "<h3>20240715_160835_maruta_FS1_CSS_PM_D2225_pv_scan</h3>"
      ],
      "text/plain": [
       "<IPython.core.display.HTML object>"
      ]
     },
     "metadata": {},
     "output_type": "display_data"
    },
    {
     "data": {
      "text/html": [
       "<h3>20240715_230659_maruta_FS1_CSS_PM_D2225_pv_scan_no_use</h3>"
      ],
      "text/plain": [
       "<IPython.core.display.HTML object>"
      ]
     },
     "metadata": {},
     "output_type": "display_data"
    },
    {
     "data": {
      "text/html": [
       "<h3>20240715_232153_maruta_FS1_CSS_PM_D2225_pv_scan</h3>"
      ],
      "text/plain": [
       "<IPython.core.display.HTML object>"
      ]
     },
     "metadata": {},
     "output_type": "display_data"
    },
    {
     "name": "stdout",
     "output_type": "stream",
     "text": [
      "0-th trial, current_loss: 0.00447, best_loss: 0.00447\n",
      "2-th trial, current_loss: 0.00447, best_loss: 0.00447\n"
     ]
    },
    {
     "data": {
      "text/html": [
       "<h3>20240715_234344_maruta_FS1_CSS_PM_D2225_pv_scan</h3>"
      ],
      "text/plain": [
       "<IPython.core.display.HTML object>"
      ]
     },
     "metadata": {},
     "output_type": "display_data"
    },
    {
     "data": {
      "text/html": [
       "<h3>20240317_143032_hwang_FS1_CSS_PM_D2225_pv_scan</h3>"
      ],
      "text/plain": [
       "<IPython.core.display.HTML object>"
      ]
     },
     "metadata": {},
     "output_type": "display_data"
    },
    {
     "name": "stdout",
     "output_type": "stream",
     "text": [
      "0-th trial, current_loss: 0.00319, best_loss: 0.00319\n",
      "2-th trial, current_loss: 0.00319, best_loss: 0.00319\n"
     ]
    },
    {
     "data": {
      "text/html": [
       "<h3>20240324_115245_maruta_FS1_CSS_PM_D2225_pv_scan</h3>"
      ],
      "text/plain": [
       "<IPython.core.display.HTML object>"
      ]
     },
     "metadata": {},
     "output_type": "display_data"
    },
    {
     "name": "stdout",
     "output_type": "stream",
     "text": [
      "0-th trial, current_loss: 0.0025, best_loss: 0.0025\n",
      "2-th trial, current_loss: 0.0025, best_loss: 0.0025\n"
     ]
    },
    {
     "data": {
      "text/html": [
       "<h3>20240412_231535_maruta_FS1_CSS_PM_D2225_pv_scan</h3>"
      ],
      "text/plain": [
       "<IPython.core.display.HTML object>"
      ]
     },
     "metadata": {},
     "output_type": "display_data"
    },
    {
     "name": "stdout",
     "output_type": "stream",
     "text": [
      "0-th trial, current_loss: 0.00144, best_loss: 0.00144\n",
      "2-th trial, current_loss: 0.00144, best_loss: 0.00144\n"
     ]
    },
    {
     "data": {
      "text/html": [
       "<h3>20240412_232832_maruta_FS1_CSS_PM_D2225_pv_scan</h3>"
      ],
      "text/plain": [
       "<IPython.core.display.HTML object>"
      ]
     },
     "metadata": {},
     "output_type": "display_data"
    },
    {
     "data": {
      "text/html": [
       "<h3>20240421_140218_maruta_FS1_CSS_PM_D2225_pv_scan_1st</h3>"
      ],
      "text/plain": [
       "<IPython.core.display.HTML object>"
      ]
     },
     "metadata": {},
     "output_type": "display_data"
    },
    {
     "name": "stdout",
     "output_type": "stream",
     "text": [
      "0-th trial, current_loss: 0.00309, best_loss: 0.00309\n",
      "2-th trial, current_loss: 0.00309, best_loss: 0.00309\n"
     ]
    },
    {
     "data": {
      "text/html": [
       "<h3>20240421_141807_maruta_FS1_CSS_PM_D2225_pv_scan_1st_sub</h3>"
      ],
      "text/plain": [
       "<IPython.core.display.HTML object>"
      ]
     },
     "metadata": {},
     "output_type": "display_data"
    },
    {
     "data": {
      "text/html": [
       "<h3>20240421_142640_maruta_FS1_CSS_PM_D2225_pv_scan_1st_sub</h3>"
      ],
      "text/plain": [
       "<IPython.core.display.HTML object>"
      ]
     },
     "metadata": {},
     "output_type": "display_data"
    },
    {
     "data": {
      "text/html": [
       "<h3>20240421_143245_maruta_FS1_CSS_PM_D2225_pv_scan_1st_sub</h3>"
      ],
      "text/plain": [
       "<IPython.core.display.HTML object>"
      ]
     },
     "metadata": {},
     "output_type": "display_data"
    },
    {
     "data": {
      "text/html": [
       "<h3>20240421_144722_maruta_FS1_CSS_PM_D2225_pv_scan</h3>"
      ],
      "text/plain": [
       "<IPython.core.display.HTML object>"
      ]
     },
     "metadata": {},
     "output_type": "display_data"
    },
    {
     "data": {
      "text/html": [
       "<h3>20240421_151651_maruta_FS1_CSS_PM_D2225_pv_scan</h3>"
      ],
      "text/plain": [
       "<IPython.core.display.HTML object>"
      ]
     },
     "metadata": {},
     "output_type": "display_data"
    },
    {
     "name": "stdout",
     "output_type": "stream",
     "text": [
      "0-th trial, current_loss: 0.000499, best_loss: 0.000499\n",
      "2-th trial, current_loss: 0.000496, best_loss: 0.000496\n"
     ]
    },
    {
     "data": {
      "text/html": [
       "<h3>20240421_153017_maruta_FS1_CSS_PM_D2225_pv_scan</h3>"
      ],
      "text/plain": [
       "<IPython.core.display.HTML object>"
      ]
     },
     "metadata": {},
     "output_type": "display_data"
    },
    {
     "data": {
      "text/html": [
       "<h3>20240421_153455_maruta_FS1_CSS_PM_D2225_pv_scan</h3>"
      ],
      "text/plain": [
       "<IPython.core.display.HTML object>"
      ]
     },
     "metadata": {},
     "output_type": "display_data"
    },
    {
     "data": {
      "text/html": [
       "<h3>20240516_210435_maruta_FS1_CSS_PM_D2225_pv_scan</h3>"
      ],
      "text/plain": [
       "<IPython.core.display.HTML object>"
      ]
     },
     "metadata": {},
     "output_type": "display_data"
    },
    {
     "name": "stdout",
     "output_type": "stream",
     "text": [
      "0-th trial, current_loss: 0.00027, best_loss: 0.00027\n",
      "2-th trial, current_loss: 0.00027, best_loss: 0.00027\n"
     ]
    },
    {
     "data": {
      "text/html": [
       "<h3>20240528_200129_hwang_FS1_CSS_PM_D2225_pv_scan</h3>"
      ],
      "text/plain": [
       "<IPython.core.display.HTML object>"
      ]
     },
     "metadata": {},
     "output_type": "display_data"
    },
    {
     "name": "stdout",
     "output_type": "stream",
     "text": [
      "0-th trial, current_loss: 0.00103, best_loss: 0.00103\n",
      "2-th trial, current_loss: 0.00103, best_loss: 0.00103\n"
     ]
    },
    {
     "data": {
      "text/html": [
       "<h3>20240528_202136_hwang_FS1_CSS_PM_D2225_pv_scan</h3>"
      ],
      "text/plain": [
       "<IPython.core.display.HTML object>"
      ]
     },
     "metadata": {},
     "output_type": "display_data"
    },
    {
     "data": {
      "text/html": [
       "<h3>20240529_014949_maruta_FS1_CSS_PM_D2225_pv_scan</h3>"
      ],
      "text/plain": [
       "<IPython.core.display.HTML object>"
      ]
     },
     "metadata": {},
     "output_type": "display_data"
    },
    {
     "data": {
      "text/html": [
       "<h3>20240529_020031_maruta_FS1_CSS_PM_D2225_pv_scan</h3>"
      ],
      "text/plain": [
       "<IPython.core.display.HTML object>"
      ]
     },
     "metadata": {},
     "output_type": "display_data"
    },
    {
     "data": {
      "text/html": [
       "<h3>20240607_113523_plastun_FS1_CSS_PM_D2225_pv_scan</h3>"
      ],
      "text/plain": [
       "<IPython.core.display.HTML object>"
      ]
     },
     "metadata": {},
     "output_type": "display_data"
    },
    {
     "data": {
      "text/html": [
       "<h3>20240607_120429_plastun_FS1_CSS_PM_D2225_pv_scan</h3>"
      ],
      "text/plain": [
       "<IPython.core.display.HTML object>"
      ]
     },
     "metadata": {},
     "output_type": "display_data"
    },
    {
     "data": {
      "text/html": [
       "<h3>20240607_121308_plastun_FS1_CSS_PM_D2225_pv_scan</h3>"
      ],
      "text/plain": [
       "<IPython.core.display.HTML object>"
      ]
     },
     "metadata": {},
     "output_type": "display_data"
    },
    {
     "name": "stdout",
     "output_type": "stream",
     "text": [
      "0-th trial, current_loss: 0.00414, best_loss: 0.00414\n",
      "2-th trial, current_loss: 0.0041, best_loss: 0.0041\n"
     ]
    },
    {
     "data": {
      "text/html": [
       "<h3>20231218_220322_hwang_FS1_CSS_PM_D2225_pv_scan</h3>"
      ],
      "text/plain": [
       "<IPython.core.display.HTML object>"
      ]
     },
     "metadata": {},
     "output_type": "display_data"
    },
    {
     "name": "stdout",
     "output_type": "stream",
     "text": [
      "0-th trial, current_loss: 0.00377, best_loss: 0.00377\n",
      "2-th trial, current_loss: 0.00301, best_loss: 0.00301\n"
     ]
    },
    {
     "data": {
      "text/html": [
       "<h3>20231218_222346_hwang_FS1_CSS_PM_D2225_pv_scan</h3>"
      ],
      "text/plain": [
       "<IPython.core.display.HTML object>"
      ]
     },
     "metadata": {},
     "output_type": "display_data"
    },
    {
     "data": {
      "text/html": [
       "<h3>20231219_010647_maruta_FS1_CSS_PM_D2225_pv_scan</h3>"
      ],
      "text/plain": [
       "<IPython.core.display.HTML object>"
      ]
     },
     "metadata": {},
     "output_type": "display_data"
    },
    {
     "name": "stdout",
     "output_type": "stream",
     "text": [
      "0-th trial, current_loss: 0.0193, best_loss: 0.0193\n",
      "2-th trial, current_loss: 0.0193, best_loss: 0.0193\n",
      "Warning message: invalid value encountered in divide\n",
      "Warning type: RuntimeWarning\n",
      "Originated from: /media/sf_HWANG/My Drive/GitHub/PMpostprocess/example/../PMpostprocess/signal_processing.py, line 67\n",
      "Warning message: Degrees of freedom <= 0 for slice\n",
      "Warning type: RuntimeWarning\n",
      "Originated from: /usr/lib/python3/dist-packages/numpy/core/_methods.py, line 269\n",
      "Warning message: invalid value encountered in divide\n",
      "Warning type: RuntimeWarning\n",
      "Originated from: /usr/lib/python3/dist-packages/numpy/core/_methods.py, line 226\n",
      "Warning message: invalid value encountered in scalar divide\n",
      "Warning type: RuntimeWarning\n",
      "Originated from: /usr/lib/python3/dist-packages/numpy/core/_methods.py, line 261\n",
      "Warning message: Degrees of freedom <= 0 for slice\n",
      "Warning type: RuntimeWarning\n",
      "Originated from: /usr/lib/python3/dist-packages/numpy/core/_methods.py, line 269\n",
      "Warning message: invalid value encountered in divide\n",
      "Warning type: RuntimeWarning\n",
      "Originated from: /usr/lib/python3/dist-packages/numpy/core/_methods.py, line 226\n",
      "Warning message: invalid value encountered in scalar divide\n",
      "Warning type: RuntimeWarning\n",
      "Originated from: /usr/lib/python3/dist-packages/numpy/core/_methods.py, line 261\n",
      "Warning message: Degrees of freedom <= 0 for slice\n",
      "Warning type: RuntimeWarning\n",
      "Originated from: /usr/lib/python3/dist-packages/numpy/core/_methods.py, line 269\n",
      "Warning message: invalid value encountered in divide\n",
      "Warning type: RuntimeWarning\n",
      "Originated from: /usr/lib/python3/dist-packages/numpy/core/_methods.py, line 226\n",
      "Warning message: invalid value encountered in scalar divide\n",
      "Warning type: RuntimeWarning\n",
      "Originated from: /usr/lib/python3/dist-packages/numpy/core/_methods.py, line 261\n",
      "Warning message: Degrees of freedom <= 0 for slice\n",
      "Warning type: RuntimeWarning\n",
      "Originated from: /usr/lib/python3/dist-packages/numpy/core/_methods.py, line 269\n",
      "Warning message: invalid value encountered in divide\n",
      "Warning type: RuntimeWarning\n",
      "Originated from: /usr/lib/python3/dist-packages/numpy/core/_methods.py, line 226\n",
      "Warning message: invalid value encountered in scalar divide\n",
      "Warning type: RuntimeWarning\n",
      "Originated from: /usr/lib/python3/dist-packages/numpy/core/_methods.py, line 261\n",
      "Warning message: Degrees of freedom <= 0 for slice\n",
      "Warning type: RuntimeWarning\n",
      "Originated from: /usr/lib/python3/dist-packages/numpy/core/_methods.py, line 269\n",
      "Warning message: invalid value encountered in divide\n",
      "Warning type: RuntimeWarning\n",
      "Originated from: /usr/lib/python3/dist-packages/numpy/core/_methods.py, line 226\n",
      "Warning message: invalid value encountered in scalar divide\n",
      "Warning type: RuntimeWarning\n",
      "Originated from: /usr/lib/python3/dist-packages/numpy/core/_methods.py, line 261\n",
      "Warning message: Degrees of freedom <= 0 for slice\n",
      "Warning type: RuntimeWarning\n",
      "Originated from: /usr/lib/python3/dist-packages/numpy/core/_methods.py, line 269\n",
      "Warning message: invalid value encountered in divide\n",
      "Warning type: RuntimeWarning\n",
      "Originated from: /usr/lib/python3/dist-packages/numpy/core/_methods.py, line 226\n",
      "Warning message: invalid value encountered in scalar divide\n",
      "Warning type: RuntimeWarning\n",
      "Originated from: /usr/lib/python3/dist-packages/numpy/core/_methods.py, line 261\n",
      "Warning message: Degrees of freedom <= 0 for slice\n",
      "Warning type: RuntimeWarning\n",
      "Originated from: /usr/lib/python3/dist-packages/numpy/core/_methods.py, line 269\n",
      "Warning message: invalid value encountered in divide\n",
      "Warning type: RuntimeWarning\n",
      "Originated from: /usr/lib/python3/dist-packages/numpy/core/_methods.py, line 226\n",
      "Warning message: invalid value encountered in scalar divide\n",
      "Warning type: RuntimeWarning\n",
      "Originated from: /usr/lib/python3/dist-packages/numpy/core/_methods.py, line 261\n",
      "Warning message: Degrees of freedom <= 0 for slice\n",
      "Warning type: RuntimeWarning\n",
      "Originated from: /usr/lib/python3/dist-packages/numpy/core/_methods.py, line 269\n",
      "Warning message: invalid value encountered in divide\n",
      "Warning type: RuntimeWarning\n",
      "Originated from: /usr/lib/python3/dist-packages/numpy/core/_methods.py, line 226\n",
      "Warning message: invalid value encountered in scalar divide\n",
      "Warning type: RuntimeWarning\n",
      "Originated from: /usr/lib/python3/dist-packages/numpy/core/_methods.py, line 261\n",
      "Warning message: Degrees of freedom <= 0 for slice\n",
      "Warning type: RuntimeWarning\n",
      "Originated from: /usr/lib/python3/dist-packages/numpy/core/_methods.py, line 269\n",
      "Warning message: invalid value encountered in divide\n",
      "Warning type: RuntimeWarning\n",
      "Originated from: /usr/lib/python3/dist-packages/numpy/core/_methods.py, line 226\n",
      "Warning message: invalid value encountered in scalar divide\n",
      "Warning type: RuntimeWarning\n",
      "Originated from: /usr/lib/python3/dist-packages/numpy/core/_methods.py, line 261\n",
      "Warning message: Degrees of freedom <= 0 for slice\n",
      "Warning type: RuntimeWarning\n",
      "Originated from: /usr/lib/python3/dist-packages/numpy/core/_methods.py, line 269\n",
      "Warning message: invalid value encountered in divide\n",
      "Warning type: RuntimeWarning\n",
      "Originated from: /usr/lib/python3/dist-packages/numpy/core/_methods.py, line 226\n",
      "Warning message: invalid value encountered in scalar divide\n",
      "Warning type: RuntimeWarning\n",
      "Originated from: /usr/lib/python3/dist-packages/numpy/core/_methods.py, line 261\n",
      "Warning message: Degrees of freedom <= 0 for slice\n",
      "Warning type: RuntimeWarning\n",
      "Originated from: /usr/lib/python3/dist-packages/numpy/core/_methods.py, line 269\n",
      "Warning message: invalid value encountered in divide\n",
      "Warning type: RuntimeWarning\n",
      "Originated from: /usr/lib/python3/dist-packages/numpy/core/_methods.py, line 226\n",
      "Warning message: invalid value encountered in scalar divide\n",
      "Warning type: RuntimeWarning\n",
      "Originated from: /usr/lib/python3/dist-packages/numpy/core/_methods.py, line 261\n",
      "Warning message: Degrees of freedom <= 0 for slice\n",
      "Warning type: RuntimeWarning\n",
      "Originated from: /usr/lib/python3/dist-packages/numpy/core/_methods.py, line 269\n",
      "Warning message: invalid value encountered in divide\n",
      "Warning type: RuntimeWarning\n",
      "Originated from: /usr/lib/python3/dist-packages/numpy/core/_methods.py, line 226\n",
      "Warning message: invalid value encountered in scalar divide\n",
      "Warning type: RuntimeWarning\n",
      "Originated from: /usr/lib/python3/dist-packages/numpy/core/_methods.py, line 261\n",
      "Warning message: Degrees of freedom <= 0 for slice\n",
      "Warning type: RuntimeWarning\n",
      "Originated from: /usr/lib/python3/dist-packages/numpy/core/_methods.py, line 269\n",
      "Warning message: invalid value encountered in divide\n",
      "Warning type: RuntimeWarning\n",
      "Originated from: /usr/lib/python3/dist-packages/numpy/core/_methods.py, line 226\n",
      "Warning message: invalid value encountered in scalar divide\n",
      "Warning type: RuntimeWarning\n",
      "Originated from: /usr/lib/python3/dist-packages/numpy/core/_methods.py, line 261\n",
      "Warning message: Degrees of freedom <= 0 for slice\n",
      "Warning type: RuntimeWarning\n",
      "Originated from: /usr/lib/python3/dist-packages/numpy/core/_methods.py, line 269\n",
      "Warning message: invalid value encountered in divide\n",
      "Warning type: RuntimeWarning\n",
      "Originated from: /usr/lib/python3/dist-packages/numpy/core/_methods.py, line 226\n",
      "Warning message: invalid value encountered in scalar divide\n",
      "Warning type: RuntimeWarning\n",
      "Originated from: /usr/lib/python3/dist-packages/numpy/core/_methods.py, line 261\n",
      "Warning message: Degrees of freedom <= 0 for slice\n",
      "Warning type: RuntimeWarning\n",
      "Originated from: /usr/lib/python3/dist-packages/numpy/core/_methods.py, line 269\n",
      "Warning message: invalid value encountered in divide\n",
      "Warning type: RuntimeWarning\n",
      "Originated from: /usr/lib/python3/dist-packages/numpy/core/_methods.py, line 226\n",
      "Warning message: invalid value encountered in scalar divide\n",
      "Warning type: RuntimeWarning\n",
      "Originated from: /usr/lib/python3/dist-packages/numpy/core/_methods.py, line 261\n",
      "Warning message: Degrees of freedom <= 0 for slice\n",
      "Warning type: RuntimeWarning\n",
      "Originated from: /usr/lib/python3/dist-packages/numpy/core/_methods.py, line 269\n",
      "Warning message: invalid value encountered in divide\n",
      "Warning type: RuntimeWarning\n",
      "Originated from: /usr/lib/python3/dist-packages/numpy/core/_methods.py, line 226\n",
      "Warning message: invalid value encountered in scalar divide\n",
      "Warning type: RuntimeWarning\n",
      "Originated from: /usr/lib/python3/dist-packages/numpy/core/_methods.py, line 261\n",
      "Warning message: Degrees of freedom <= 0 for slice\n",
      "Warning type: RuntimeWarning\n",
      "Originated from: /usr/lib/python3/dist-packages/numpy/core/_methods.py, line 269\n",
      "Warning message: invalid value encountered in divide\n",
      "Warning type: RuntimeWarning\n",
      "Originated from: /usr/lib/python3/dist-packages/numpy/core/_methods.py, line 226\n",
      "Warning message: invalid value encountered in scalar divide\n",
      "Warning type: RuntimeWarning\n",
      "Originated from: /usr/lib/python3/dist-packages/numpy/core/_methods.py, line 261\n",
      "Warning message: Degrees of freedom <= 0 for slice\n",
      "Warning type: RuntimeWarning\n",
      "Originated from: /usr/lib/python3/dist-packages/numpy/core/_methods.py, line 269\n",
      "Warning message: invalid value encountered in divide\n",
      "Warning type: RuntimeWarning\n",
      "Originated from: /usr/lib/python3/dist-packages/numpy/core/_methods.py, line 226\n",
      "Warning message: invalid value encountered in scalar divide\n",
      "Warning type: RuntimeWarning\n",
      "Originated from: /usr/lib/python3/dist-packages/numpy/core/_methods.py, line 261\n",
      "Warning message: Degrees of freedom <= 0 for slice\n",
      "Warning type: RuntimeWarning\n",
      "Originated from: /usr/lib/python3/dist-packages/numpy/core/_methods.py, line 269\n",
      "Warning message: invalid value encountered in divide\n",
      "Warning type: RuntimeWarning\n",
      "Originated from: /usr/lib/python3/dist-packages/numpy/core/_methods.py, line 226\n",
      "Warning message: invalid value encountered in scalar divide\n",
      "Warning type: RuntimeWarning\n",
      "Originated from: /usr/lib/python3/dist-packages/numpy/core/_methods.py, line 261\n",
      "Warning message: Degrees of freedom <= 0 for slice\n",
      "Warning type: RuntimeWarning\n",
      "Originated from: /usr/lib/python3/dist-packages/numpy/core/_methods.py, line 269\n",
      "Warning message: invalid value encountered in divide\n",
      "Warning type: RuntimeWarning\n",
      "Originated from: /usr/lib/python3/dist-packages/numpy/core/_methods.py, line 226\n",
      "Warning message: invalid value encountered in scalar divide\n",
      "Warning type: RuntimeWarning\n",
      "Originated from: /usr/lib/python3/dist-packages/numpy/core/_methods.py, line 261\n",
      "Warning message: Degrees of freedom <= 0 for slice\n",
      "Warning type: RuntimeWarning\n",
      "Originated from: /usr/lib/python3/dist-packages/numpy/core/_methods.py, line 269\n",
      "Warning message: invalid value encountered in divide\n",
      "Warning type: RuntimeWarning\n",
      "Originated from: /usr/lib/python3/dist-packages/numpy/core/_methods.py, line 226\n",
      "Warning message: invalid value encountered in scalar divide\n",
      "Warning type: RuntimeWarning\n",
      "Originated from: /usr/lib/python3/dist-packages/numpy/core/_methods.py, line 261\n",
      "Warning message: Degrees of freedom <= 0 for slice\n",
      "Warning type: RuntimeWarning\n",
      "Originated from: /usr/lib/python3/dist-packages/numpy/core/_methods.py, line 269\n",
      "Warning message: invalid value encountered in divide\n",
      "Warning type: RuntimeWarning\n",
      "Originated from: /usr/lib/python3/dist-packages/numpy/core/_methods.py, line 226\n",
      "Warning message: invalid value encountered in scalar divide\n",
      "Warning type: RuntimeWarning\n",
      "Originated from: /usr/lib/python3/dist-packages/numpy/core/_methods.py, line 261\n",
      "Warning message: Degrees of freedom <= 0 for slice\n",
      "Warning type: RuntimeWarning\n",
      "Originated from: /usr/lib/python3/dist-packages/numpy/core/_methods.py, line 269\n",
      "Warning message: invalid value encountered in divide\n",
      "Warning type: RuntimeWarning\n",
      "Originated from: /usr/lib/python3/dist-packages/numpy/core/_methods.py, line 226\n",
      "Warning message: invalid value encountered in scalar divide\n",
      "Warning type: RuntimeWarning\n",
      "Originated from: /usr/lib/python3/dist-packages/numpy/core/_methods.py, line 261\n",
      "Warning message: Degrees of freedom <= 0 for slice\n",
      "Warning type: RuntimeWarning\n",
      "Originated from: /usr/lib/python3/dist-packages/numpy/core/_methods.py, line 269\n",
      "Warning message: invalid value encountered in divide\n",
      "Warning type: RuntimeWarning\n",
      "Originated from: /usr/lib/python3/dist-packages/numpy/core/_methods.py, line 226\n",
      "Warning message: invalid value encountered in scalar divide\n",
      "Warning type: RuntimeWarning\n",
      "Originated from: /usr/lib/python3/dist-packages/numpy/core/_methods.py, line 261\n",
      "Warning message: Degrees of freedom <= 0 for slice\n",
      "Warning type: RuntimeWarning\n",
      "Originated from: /usr/lib/python3/dist-packages/numpy/core/_methods.py, line 269\n",
      "Warning message: invalid value encountered in divide\n",
      "Warning type: RuntimeWarning\n",
      "Originated from: /usr/lib/python3/dist-packages/numpy/core/_methods.py, line 226\n",
      "Warning message: invalid value encountered in scalar divide\n",
      "Warning type: RuntimeWarning\n",
      "Originated from: /usr/lib/python3/dist-packages/numpy/core/_methods.py, line 261\n",
      "Warning message: Degrees of freedom <= 0 for slice\n",
      "Warning type: RuntimeWarning\n",
      "Originated from: /usr/lib/python3/dist-packages/numpy/core/_methods.py, line 269\n",
      "Warning message: invalid value encountered in divide\n",
      "Warning type: RuntimeWarning\n",
      "Originated from: /usr/lib/python3/dist-packages/numpy/core/_methods.py, line 226\n",
      "Warning message: invalid value encountered in scalar divide\n",
      "Warning type: RuntimeWarning\n",
      "Originated from: /usr/lib/python3/dist-packages/numpy/core/_methods.py, line 261\n",
      "Warning message: Degrees of freedom <= 0 for slice\n",
      "Warning type: RuntimeWarning\n",
      "Originated from: /usr/lib/python3/dist-packages/numpy/core/_methods.py, line 269\n",
      "Warning message: invalid value encountered in divide\n",
      "Warning type: RuntimeWarning\n",
      "Originated from: /usr/lib/python3/dist-packages/numpy/core/_methods.py, line 226\n",
      "Warning message: invalid value encountered in scalar divide\n",
      "Warning type: RuntimeWarning\n",
      "Originated from: /usr/lib/python3/dist-packages/numpy/core/_methods.py, line 261\n",
      "Warning message: Degrees of freedom <= 0 for slice\n",
      "Warning type: RuntimeWarning\n",
      "Originated from: /usr/lib/python3/dist-packages/numpy/core/_methods.py, line 269\n",
      "Warning message: invalid value encountered in divide\n",
      "Warning type: RuntimeWarning\n",
      "Originated from: /usr/lib/python3/dist-packages/numpy/core/_methods.py, line 226\n",
      "Warning message: invalid value encountered in scalar divide\n",
      "Warning type: RuntimeWarning\n",
      "Originated from: /usr/lib/python3/dist-packages/numpy/core/_methods.py, line 261\n",
      "Warning message: Degrees of freedom <= 0 for slice\n",
      "Warning type: RuntimeWarning\n",
      "Originated from: /usr/lib/python3/dist-packages/numpy/core/_methods.py, line 269\n",
      "Warning message: invalid value encountered in divide\n",
      "Warning type: RuntimeWarning\n",
      "Originated from: /usr/lib/python3/dist-packages/numpy/core/_methods.py, line 226\n",
      "Warning message: invalid value encountered in scalar divide\n",
      "Warning type: RuntimeWarning\n",
      "Originated from: /usr/lib/python3/dist-packages/numpy/core/_methods.py, line 261\n",
      "Warning message: Degrees of freedom <= 0 for slice\n",
      "Warning type: RuntimeWarning\n",
      "Originated from: /usr/lib/python3/dist-packages/numpy/core/_methods.py, line 269\n",
      "Warning message: invalid value encountered in divide\n",
      "Warning type: RuntimeWarning\n",
      "Originated from: /usr/lib/python3/dist-packages/numpy/core/_methods.py, line 226\n",
      "Warning message: invalid value encountered in scalar divide\n",
      "Warning type: RuntimeWarning\n",
      "Originated from: /usr/lib/python3/dist-packages/numpy/core/_methods.py, line 261\n",
      "Warning message: Degrees of freedom <= 0 for slice\n",
      "Warning type: RuntimeWarning\n",
      "Originated from: /usr/lib/python3/dist-packages/numpy/core/_methods.py, line 269\n",
      "Warning message: invalid value encountered in divide\n",
      "Warning type: RuntimeWarning\n",
      "Originated from: /usr/lib/python3/dist-packages/numpy/core/_methods.py, line 226\n",
      "Warning message: invalid value encountered in scalar divide\n",
      "Warning type: RuntimeWarning\n",
      "Originated from: /usr/lib/python3/dist-packages/numpy/core/_methods.py, line 261\n",
      "Warning message: Degrees of freedom <= 0 for slice\n",
      "Warning type: RuntimeWarning\n",
      "Originated from: /usr/lib/python3/dist-packages/numpy/core/_methods.py, line 269\n",
      "Warning message: invalid value encountered in divide\n",
      "Warning type: RuntimeWarning\n",
      "Originated from: /usr/lib/python3/dist-packages/numpy/core/_methods.py, line 226\n",
      "Warning message: invalid value encountered in scalar divide\n",
      "Warning type: RuntimeWarning\n",
      "Originated from: /usr/lib/python3/dist-packages/numpy/core/_methods.py, line 261\n",
      "Warning message: Degrees of freedom <= 0 for slice\n",
      "Warning type: RuntimeWarning\n",
      "Originated from: /usr/lib/python3/dist-packages/numpy/core/_methods.py, line 269\n",
      "Warning message: invalid value encountered in divide\n",
      "Warning type: RuntimeWarning\n",
      "Originated from: /usr/lib/python3/dist-packages/numpy/core/_methods.py, line 226\n",
      "Warning message: invalid value encountered in scalar divide\n",
      "Warning type: RuntimeWarning\n",
      "Originated from: /usr/lib/python3/dist-packages/numpy/core/_methods.py, line 261\n",
      "Warning message: Degrees of freedom <= 0 for slice\n",
      "Warning type: RuntimeWarning\n",
      "Originated from: /usr/lib/python3/dist-packages/numpy/core/_methods.py, line 269\n",
      "Warning message: invalid value encountered in divide\n",
      "Warning type: RuntimeWarning\n",
      "Originated from: /usr/lib/python3/dist-packages/numpy/core/_methods.py, line 226\n",
      "Warning message: invalid value encountered in scalar divide\n",
      "Warning type: RuntimeWarning\n",
      "Originated from: /usr/lib/python3/dist-packages/numpy/core/_methods.py, line 261\n",
      "Warning message: Degrees of freedom <= 0 for slice\n",
      "Warning type: RuntimeWarning\n",
      "Originated from: /usr/lib/python3/dist-packages/numpy/core/_methods.py, line 269\n",
      "Warning message: invalid value encountered in divide\n",
      "Warning type: RuntimeWarning\n",
      "Originated from: /usr/lib/python3/dist-packages/numpy/core/_methods.py, line 226\n",
      "Warning message: invalid value encountered in scalar divide\n",
      "Warning type: RuntimeWarning\n",
      "Originated from: /usr/lib/python3/dist-packages/numpy/core/_methods.py, line 261\n",
      "Warning message: Degrees of freedom <= 0 for slice\n",
      "Warning type: RuntimeWarning\n",
      "Originated from: /usr/lib/python3/dist-packages/numpy/core/_methods.py, line 269\n",
      "Warning message: invalid value encountered in divide\n",
      "Warning type: RuntimeWarning\n",
      "Originated from: /usr/lib/python3/dist-packages/numpy/core/_methods.py, line 226\n",
      "Warning message: invalid value encountered in scalar divide\n",
      "Warning type: RuntimeWarning\n",
      "Originated from: /usr/lib/python3/dist-packages/numpy/core/_methods.py, line 261\n",
      "Warning message: Degrees of freedom <= 0 for slice\n",
      "Warning type: RuntimeWarning\n",
      "Originated from: /usr/lib/python3/dist-packages/numpy/core/_methods.py, line 269\n",
      "Warning message: invalid value encountered in divide\n",
      "Warning type: RuntimeWarning\n",
      "Originated from: /usr/lib/python3/dist-packages/numpy/core/_methods.py, line 226\n",
      "Warning message: invalid value encountered in scalar divide\n",
      "Warning type: RuntimeWarning\n",
      "Originated from: /usr/lib/python3/dist-packages/numpy/core/_methods.py, line 261\n",
      "Warning message: Degrees of freedom <= 0 for slice\n",
      "Warning type: RuntimeWarning\n",
      "Originated from: /usr/lib/python3/dist-packages/numpy/core/_methods.py, line 269\n",
      "Warning message: invalid value encountered in divide\n",
      "Warning type: RuntimeWarning\n",
      "Originated from: /usr/lib/python3/dist-packages/numpy/core/_methods.py, line 226\n",
      "Warning message: invalid value encountered in scalar divide\n",
      "Warning type: RuntimeWarning\n",
      "Originated from: /usr/lib/python3/dist-packages/numpy/core/_methods.py, line 261\n",
      "Warning message: Degrees of freedom <= 0 for slice\n",
      "Warning type: RuntimeWarning\n",
      "Originated from: /usr/lib/python3/dist-packages/numpy/core/_methods.py, line 269\n",
      "Warning message: invalid value encountered in divide\n",
      "Warning type: RuntimeWarning\n",
      "Originated from: /usr/lib/python3/dist-packages/numpy/core/_methods.py, line 226\n",
      "Warning message: invalid value encountered in scalar divide\n",
      "Warning type: RuntimeWarning\n",
      "Originated from: /usr/lib/python3/dist-packages/numpy/core/_methods.py, line 261\n",
      "Warning message: Degrees of freedom <= 0 for slice\n",
      "Warning type: RuntimeWarning\n",
      "Originated from: /usr/lib/python3/dist-packages/numpy/core/_methods.py, line 269\n",
      "Warning message: invalid value encountered in divide\n",
      "Warning type: RuntimeWarning\n",
      "Originated from: /usr/lib/python3/dist-packages/numpy/core/_methods.py, line 226\n",
      "Warning message: invalid value encountered in scalar divide\n",
      "Warning type: RuntimeWarning\n",
      "Originated from: /usr/lib/python3/dist-packages/numpy/core/_methods.py, line 261\n",
      "Warning message: Degrees of freedom <= 0 for slice\n",
      "Warning type: RuntimeWarning\n",
      "Originated from: /usr/lib/python3/dist-packages/numpy/core/_methods.py, line 269\n",
      "Warning message: invalid value encountered in divide\n",
      "Warning type: RuntimeWarning\n",
      "Originated from: /usr/lib/python3/dist-packages/numpy/core/_methods.py, line 226\n",
      "Warning message: invalid value encountered in scalar divide\n",
      "Warning type: RuntimeWarning\n",
      "Originated from: /usr/lib/python3/dist-packages/numpy/core/_methods.py, line 261\n"
     ]
    },
    {
     "data": {
      "text/html": [
       "<h3>20231219_012640_maruta_FS1_CSS_PM_D2225_pv_scan</h3>"
      ],
      "text/plain": [
       "<IPython.core.display.HTML object>"
      ]
     },
     "metadata": {},
     "output_type": "display_data"
    },
    {
     "data": {
      "text/html": [
       "<h3>20231219_013627_maruta_FS1_CSS_PM_D2225_pv_scan</h3>"
      ],
      "text/plain": [
       "<IPython.core.display.HTML object>"
      ]
     },
     "metadata": {},
     "output_type": "display_data"
    },
    {
     "data": {
      "text/html": [
       "<h3>20240117_133127_maruta_FS1_CSS_PM_D2225_pv_scan</h3>"
      ],
      "text/plain": [
       "<IPython.core.display.HTML object>"
      ]
     },
     "metadata": {},
     "output_type": "display_data"
    },
    {
     "data": {
      "text/html": [
       "<h3>20240117_135242_maruta_FS1_CSS_PM_D2225_pv_scan</h3>"
      ],
      "text/plain": [
       "<IPython.core.display.HTML object>"
      ]
     },
     "metadata": {},
     "output_type": "display_data"
    },
    {
     "name": "stdout",
     "output_type": "stream",
     "text": [
      "0-th trial, current_loss: 0.0136, best_loss: 0.0136\n",
      "2-th trial, current_loss: 0.0136, best_loss: 0.0136\n"
     ]
    },
    {
     "data": {
      "text/html": [
       "<h3>20240117_135920_maruta_FS1_CSS_PM_D2225_pv_scan</h3>"
      ],
      "text/plain": [
       "<IPython.core.display.HTML object>"
      ]
     },
     "metadata": {},
     "output_type": "display_data"
    },
    {
     "data": {
      "text/html": [
       "<h3>20240117_140556_maruta_FS1_CSS_PM_D2225_pv_scan</h3>"
      ],
      "text/plain": [
       "<IPython.core.display.HTML object>"
      ]
     },
     "metadata": {},
     "output_type": "display_data"
    },
    {
     "data": {
      "text/html": [
       "<h3>20240117_141046_maruta_FS1_CSS_PM_D2225_pv_scan</h3>"
      ],
      "text/plain": [
       "<IPython.core.display.HTML object>"
      ]
     },
     "metadata": {},
     "output_type": "display_data"
    },
    {
     "data": {
      "text/html": [
       "<h3>20240210_122819_zhao_FS1_CSS_PM_D2225_pv_scan</h3>"
      ],
      "text/plain": [
       "<IPython.core.display.HTML object>"
      ]
     },
     "metadata": {},
     "output_type": "display_data"
    },
    {
     "data": {
      "text/html": [
       "<h3>20240210_130543_zhao_FS1_CSS_PM_D2225_pv_scan</h3>"
      ],
      "text/plain": [
       "<IPython.core.display.HTML object>"
      ]
     },
     "metadata": {},
     "output_type": "display_data"
    },
    {
     "name": "stdout",
     "output_type": "stream",
     "text": [
      "0-th trial, current_loss: 0.00316, best_loss: 0.00316\n",
      "2-th trial, current_loss: 0.00313, best_loss: 0.00313\n"
     ]
    },
    {
     "data": {
      "text/html": [
       "<h3>20231024_073708_hwang_FS1_CSS_PM_D2225_pv_scan</h3>"
      ],
      "text/plain": [
       "<IPython.core.display.HTML object>"
      ]
     },
     "metadata": {},
     "output_type": "display_data"
    },
    {
     "name": "stdout",
     "output_type": "stream",
     "text": [
      "0-th trial, current_loss: 0.00569, best_loss: 0.00569\n",
      "2-th trial, current_loss: 0.00568, best_loss: 0.00568\n"
     ]
    },
    {
     "data": {
      "text/html": [
       "<h3>20231024_094241_ostroumo_FS1_CSS_PM_D2225_pv_scan</h3>"
      ],
      "text/plain": [
       "<IPython.core.display.HTML object>"
      ]
     },
     "metadata": {},
     "output_type": "display_data"
    },
    {
     "name": "stdout",
     "output_type": "stream",
     "text": [
      "0-th trial, current_loss: 0.0325, best_loss: 0.0325\n",
      "2-th trial, current_loss: 0.0324, best_loss: 0.0324\n"
     ]
    },
    {
     "data": {
      "text/html": [
       "<h3>20231024_095756_ostroumo_FS1_CSS_PM_D2225_pv_scan</h3>"
      ],
      "text/plain": [
       "<IPython.core.display.HTML object>"
      ]
     },
     "metadata": {},
     "output_type": "display_data"
    },
    {
     "data": {
      "text/html": [
       "<h3>20231117_151327_zhao_FS1_CSS_PM_D2225_pv_scan</h3>"
      ],
      "text/plain": [
       "<IPython.core.display.HTML object>"
      ]
     },
     "metadata": {},
     "output_type": "display_data"
    },
    {
     "name": "stdout",
     "output_type": "stream",
     "text": [
      "0-th trial, current_loss: 0.0143, best_loss: 0.0143\n",
      "2-th trial, current_loss: 0.0142, best_loss: 0.0142\n"
     ]
    },
    {
     "data": {
      "text/html": [
       "<h3>20231117_153932_zhao_FS1_CSS_PM_D2225_pv_scan</h3>"
      ],
      "text/plain": [
       "<IPython.core.display.HTML object>"
      ]
     },
     "metadata": {},
     "output_type": "display_data"
    },
    {
     "name": "stdout",
     "output_type": "stream",
     "text": [
      "0-th trial, current_loss: 0.0147, best_loss: 0.0147\n",
      "2-th trial, current_loss: 0.0147, best_loss: 0.0147\n"
     ]
    },
    {
     "data": {
      "text/html": [
       "<h3>20231129_145022_ostroumo_FS1_CSS_PM_D2225_pv_scan</h3>"
      ],
      "text/plain": [
       "<IPython.core.display.HTML object>"
      ]
     },
     "metadata": {},
     "output_type": "display_data"
    },
    {
     "name": "stdout",
     "output_type": "stream",
     "text": [
      "0-th trial, current_loss: 0.0123, best_loss: 0.0123\n",
      "2-th trial, current_loss: 0.0123, best_loss: 0.0123\n"
     ]
    },
    {
     "data": {
      "text/html": [
       "<h3>20231201_134042_zhao_FS1_CSS_PM_D2225_pv_scan</h3>"
      ],
      "text/plain": [
       "<IPython.core.display.HTML object>"
      ]
     },
     "metadata": {},
     "output_type": "display_data"
    },
    {
     "name": "stdout",
     "output_type": "stream",
     "text": [
      "0-th trial, current_loss: 0.0591, best_loss: 0.0591\n",
      "2-th trial, current_loss: 0.0576, best_loss: 0.0576\n"
     ]
    },
    {
     "data": {
      "text/html": [
       "<h3>20231201_153711_maruta_FS1_CSS_PM_D2225_pv_scan</h3>"
      ],
      "text/plain": [
       "<IPython.core.display.HTML object>"
      ]
     },
     "metadata": {},
     "output_type": "display_data"
    },
    {
     "data": {
      "text/html": [
       "<h3>20231201_154318_maruta_FS1_CSS_PM_D2225_pv_scan</h3>"
      ],
      "text/plain": [
       "<IPython.core.display.HTML object>"
      ]
     },
     "metadata": {},
     "output_type": "display_data"
    }
   ],
   "source": [
    "CS_new_df = {}\n",
    "CS_orig_df = {}\n",
    "fm_goals_orig_df = {}\n",
    "fm_goals_df = {}\n",
    "fm_errs_df = {}\n",
    "fm_evals_result_df = {}\n",
    "\n",
    "for item in glob.glob(os.path.join(ISAAC_database_path, '*')):\n",
    "    name = os.path.basename(item)\n",
    "    if \"FS1_CSS_PM_D2225_pv_scan\" in name:\n",
    "        if name in CS_new_df.keys():\n",
    "            continue\n",
    "#         try:\n",
    "        with capture_warnings():\n",
    "            htmlstr = \"<h3>\" + name + \"</h3>\"\n",
    "            display(HTML(htmlstr))\n",
    "            isac_data = ih.get_most_recent_reconst_data(name, ISAAC_database_path)\n",
    "            if isac_data is None:\n",
    "                continue\n",
    "            raw = pp.read_all_raw_data(ih, name, ISAAC_database_path)\n",
    "            CS_new, CS_orig, fm, fm_evals, fm_goals, fm_goals_processed, fm_evals_result = pp.reprocess_CS(fh, isac_data, raw)\n",
    "            CS_new_df[name] = CS_new\n",
    "            CS_orig_df[name] = CS_orig\n",
    "            fm_goals_orig_df = fm_goals['df']\n",
    "            fm_goals_df[name] = fm_goals_processed['df']\n",
    "            fm_errs_df[name] = fm_goals_processed['err']\n",
    "            fm_evals_result_df[name] = fm_evals_result\n",
    "#         except Exception as e:\n",
    "#             display(HTML(f'<div style=\"color:red; font-weight:bold; font-size:16px;\">An error occurred while processing {name}: {e}</div>'))\n",
    "#             #print(f\"An error occurred while processing {name}: {e}\")\n",
    "            \n",
    "CS_new_df = pd.DataFrame(CS_new_df).T\n",
    "CS_orig_df = pd.DataFrame(CS_orig_df).T"
   ]
  },
  {
   "cell_type": "code",
   "execution_count": null,
   "id": "37f9e540",
   "metadata": {},
   "outputs": [],
   "source": []
  },
  {
   "cell_type": "code",
   "execution_count": 7,
   "id": "fb07a3bf",
   "metadata": {},
   "outputs": [],
   "source": [
    "def sort_by_date(df):\n",
    "    df = df.copy().reset_index()  # Reset index for manipulation\n",
    "    df['date'] = df['index'].str[:8]  # Extract the date from the index\n",
    "    df = df.sort_values(by='date')  # Sort by the extracted date\n",
    "    return df.drop(columns=['date'])  # Drop the temporary 'date' column\n",
    "\n",
    "df_new = sort_by_date(CS_new_df)\n",
    "df_new['label'] = df_new['index'].str.replace(r'_(\\d{2})(\\d{4})_', r'_\\1_', regex=True)  # Keeps HH and removes MMSS\n",
    "df_new['label'] = df_new['label'].str.replace('_FS1_CSS_PM_D2225_pv_scan.*', '', regex=True)\n",
    "\n",
    "df_orig = sort_by_date(CS_orig_df)\n",
    "df_orig['label'] = df_orig['index'].str.replace(r'_(\\d{2})(\\d{4})_', r'_\\1_', regex=True)  # Keeps HH and removes MMSS\n",
    "df_orig['label'] = df_orig['label'].str.replace('_FS1_CSS_PM_D2225_pv_scan.*', '', regex=True)\n"
   ]
  },
  {
   "cell_type": "code",
   "execution_count": 8,
   "id": "b40201e7",
   "metadata": {},
   "outputs": [
    {
     "data": {
      "text/plain": [
       "<matplotlib.legend.Legend at 0x7ff56537af10>"
      ]
     },
     "execution_count": 8,
     "metadata": {},
     "output_type": "execute_result"
    },
    {
     "data": {
      "image/png": "[encoded data removed]",
      "text/plain": [
       "<Figure size 1200x500 with 1 Axes>"
      ]
     },
     "metadata": {},
     "output_type": "display_data"
    }
   ],
   "source": [
    "plt.figure(figsize=(12, 5))\n",
    "plt.scatter(df_new['label'], df_new['emityn'], color='red', label='PostProcess', alpha=0.7)\n",
    "plt.scatter(df_orig['label'], df_orig['emityn'], color='blue', label='ISAAC', alpha=0.7)\n",
    "\n",
    "plt.ylabel('emityn')\n",
    "plt.title('Comparison of emityn')\n",
    "plt.xticks(rotation=45, ha='right')  # Rotate x-axis labels for better readability\n",
    "plt.grid(True, linestyle='--', alpha=0.7)\n",
    "plt.tight_layout()\n",
    "plt.legend()"
   ]
  },
  {
   "cell_type": "code",
   "execution_count": 9,
   "id": "b417297e",
   "metadata": {},
   "outputs": [
    {
     "data": {
      "text/plain": [
       "<matplotlib.legend.Legend at 0x7ff565398bd0>"
      ]
     },
     "execution_count": 9,
     "metadata": {},
     "output_type": "execute_result"
    },
    {
     "data": {
      "image/png": "[encoded data removed]",
      "text/plain": [
       "<Figure size 1200x500 with 1 Axes>"
      ]
     },
     "metadata": {},
     "output_type": "display_data"
    }
   ],
   "source": [
    "plt.figure(figsize=(12, 5))\n",
    "plt.scatter(df_new['label'], df_new['emityn'], color='red', label='PostProcess', alpha=0.7)\n",
    "plt.scatter(df_orig['label'], df_orig['emityn'], color='blue', label='ISAAC', alpha=0.7)\n",
    "\n",
    "plt.ylabel('emityn')\n",
    "plt.title('Comparison of emityn')\n",
    "plt.xticks(rotation=45, ha='right')  # Rotate x-axis labels for better readability\n",
    "plt.grid(True, linestyle='--', alpha=0.7)\n",
    "plt.tight_layout()\n",
    "plt.legend()"
   ]
  },
  {
   "cell_type": "code",
   "execution_count": 10,
   "id": "19aa4a52",
   "metadata": {},
   "outputs": [
    {
     "data": {
      "text/plain": [
       "['20240324_115245_maruta_FS1_CSS_PM_D2225_pv_scan',\n",
       " '20240421_140218_maruta_FS1_CSS_PM_D2225_pv_scan_1st',\n",
       " '20240421_151651_maruta_FS1_CSS_PM_D2225_pv_scan']"
      ]
     },
     "execution_count": 10,
     "metadata": {},
     "output_type": "execute_result"
    }
   ],
   "source": [
    "idx4exam = [idx for idx in CS_new_df.index if \"20240324\" in idx or \"20240421\" in idx]\n",
    "idx4exam"
   ]
  },
  {
   "cell_type": "code",
   "execution_count": 11,
   "id": "95161123",
   "metadata": {},
   "outputs": [
    {
     "data": {
      "text/html": [
       "<div>\n",
       "<style scoped>\n",
       "    .dataframe tbody tr th:only-of-type {\n",
       "        vertical-align: middle;\n",
       "    }\n",
       "\n",
       "    .dataframe tbody tr th {\n",
       "        vertical-align: top;\n",
       "    }\n",
       "\n",
       "    .dataframe thead tr th {\n",
       "        text-align: left;\n",
       "    }\n",
       "</style>\n",
       "<table border=\"1\" class=\"dataframe\">\n",
       "  <thead>\n",
       "    <tr>\n",
       "      <th></th>\n",
       "      <th colspan=\"3\" halign=\"left\">FS1_CSS:PM_D2225</th>\n",
       "    </tr>\n",
       "    <tr>\n",
       "      <th></th>\n",
       "      <th>xrms</th>\n",
       "      <th>yrms</th>\n",
       "      <th>cxy</th>\n",
       "    </tr>\n",
       "  </thead>\n",
       "  <tbody>\n",
       "    <tr>\n",
       "      <th>0</th>\n",
       "      <td>3.143623</td>\n",
       "      <td>0.443516</td>\n",
       "      <td>0.295026</td>\n",
       "    </tr>\n",
       "    <tr>\n",
       "      <th>1</th>\n",
       "      <td>1.592484</td>\n",
       "      <td>1.314428</td>\n",
       "      <td>0.322859</td>\n",
       "    </tr>\n",
       "    <tr>\n",
       "      <th>2</th>\n",
       "      <td>0.281512</td>\n",
       "      <td>2.059505</td>\n",
       "      <td>-0.177588</td>\n",
       "    </tr>\n",
       "    <tr>\n",
       "      <th>3</th>\n",
       "      <td>1.761534</td>\n",
       "      <td>2.939433</td>\n",
       "      <td>-0.293003</td>\n",
       "    </tr>\n",
       "    <tr>\n",
       "      <th>4</th>\n",
       "      <td>3.350079</td>\n",
       "      <td>NaN</td>\n",
       "      <td>NaN</td>\n",
       "    </tr>\n",
       "    <tr>\n",
       "      <th>5</th>\n",
       "      <td>1.998580</td>\n",
       "      <td>2.885055</td>\n",
       "      <td>0.564348</td>\n",
       "    </tr>\n",
       "    <tr>\n",
       "      <th>6</th>\n",
       "      <td>2.629143</td>\n",
       "      <td>1.819163</td>\n",
       "      <td>0.327009</td>\n",
       "    </tr>\n",
       "    <tr>\n",
       "      <th>7</th>\n",
       "      <td>3.268948</td>\n",
       "      <td>0.421263</td>\n",
       "      <td>0.334121</td>\n",
       "    </tr>\n",
       "    <tr>\n",
       "      <th>8</th>\n",
       "      <td>3.898468</td>\n",
       "      <td>1.112801</td>\n",
       "      <td>-0.176119</td>\n",
       "    </tr>\n",
       "    <tr>\n",
       "      <th>9</th>\n",
       "      <td>4.501624</td>\n",
       "      <td>2.453344</td>\n",
       "      <td>-0.210332</td>\n",
       "    </tr>\n",
       "  </tbody>\n",
       "</table>\n",
       "</div>"
      ],
      "text/plain": [
       "  FS1_CSS:PM_D2225                    \n",
       "              xrms      yrms       cxy\n",
       "0         3.143623  0.443516  0.295026\n",
       "1         1.592484  1.314428  0.322859\n",
       "2         0.281512  2.059505 -0.177588\n",
       "3         1.761534  2.939433 -0.293003\n",
       "4         3.350079       NaN       NaN\n",
       "5         1.998580  2.885055  0.564348\n",
       "6         2.629143  1.819163  0.327009\n",
       "7         3.268948  0.421263  0.334121\n",
       "8         3.898468  1.112801 -0.176119\n",
       "9         4.501624  2.453344 -0.210332"
      ]
     },
     "metadata": {},
     "output_type": "display_data"
    },
    {
     "ename": "KeyError",
     "evalue": "'20240324_115245_maruta_FS1_CSS_PM_D2225_pv_scan'",
     "output_type": "error",
     "traceback": [
      "\u001b[0;31m---------------------------------------------------------------------------\u001b[0m",
      "\u001b[0;31mKeyError\u001b[0m                                  Traceback (most recent call last)",
      "Cell \u001b[0;32mIn [11], line 3\u001b[0m\n\u001b[1;32m      1\u001b[0m \u001b[38;5;28;01mfor\u001b[39;00m idx \u001b[38;5;129;01min\u001b[39;00m idx4exam:  \u001b[38;5;66;03m# Use the desired index for plotting\u001b[39;00m\n\u001b[1;32m      2\u001b[0m     display(fm_goals_df[idx])\n\u001b[0;32m----> 3\u001b[0m     display(\u001b[43mfm_goals_processed\u001b[49m\u001b[43m[\u001b[49m\u001b[43midx\u001b[49m\u001b[43m]\u001b[49m)\n\u001b[1;32m      4\u001b[0m     plt\u001b[38;5;241m.\u001b[39mfigure(figsize\u001b[38;5;241m=\u001b[39m(\u001b[38;5;241m6\u001b[39m, \u001b[38;5;241m4\u001b[39m), dpi\u001b[38;5;241m=\u001b[39m\u001b[38;5;241m96\u001b[39m)\n\u001b[1;32m      6\u001b[0m     \u001b[38;5;66;03m# Colors for the respective labels\u001b[39;00m\n",
      "\u001b[0;31mKeyError\u001b[0m: '20240324_115245_maruta_FS1_CSS_PM_D2225_pv_scan'"
     ]
    }
   ],
   "source": [
    "for idx in idx4exam:  # Use the desired index for plotting\n",
    "    display(fm_goals_df[idx])\n",
    "    display(fm_goals_processed[idx])\n",
    "    plt.figure(figsize=(6, 4), dpi=96)\n",
    "\n",
    "    # Colors for the respective labels\n",
    "    colors = ['blue', 'red', 'green']\n",
    "\n",
    "    # Reverse the order for plotting\n",
    "    for i, (k, color) in reversed(list(enumerate(zip(['xrms', 'yrms', 'cxy'], colors)))):\n",
    "        plt.errorbar(\n",
    "            fm_goals_df[idx].index,                          # X-axis data\n",
    "            fm_goals_df[idx].values[:, i],                  # Y-axis data (mean values)\n",
    "            yerr=fm_errs_df[idx].values[:, i] * 10,          # Error bars (10σ)\n",
    "            fmt='o',                                        # Only show points, no line\n",
    "            label=k+' 10σ',                                 # Label for the error bars\n",
    "            color=color,                                    # Assign specific color\n",
    "            capsize=8,                                      # Increase cap size for error bars\n",
    "            elinewidth=2,                                   # Thicker error bar lines\n",
    "            markersize=3,                                   # Larger marker size\n",
    "            markeredgewidth=1.2,                            # Thicker marker edge\n",
    "        )\n",
    "        plt.plot(fm_evals_result_df[idx].values[:, i],color=color)    \n",
    "        \n",
    "    \n",
    "\n",
    "    # Customize the plot\n",
    "    plt.xlabel('Data #')\n",
    "    plt.title(idx)\n",
    "    plt.grid(True, linestyle='--', alpha=0.7)\n",
    "    plt.legend()\n",
    "    plt.tight_layout()\n",
    "\n",
    "    # Display the plot\n",
    "    plt.show()\n"
   ]
  },
  {
   "cell_type": "code",
   "execution_count": null,
   "id": "721ae8ac",
   "metadata": {},
   "outputs": [],
   "source": [
    "fm_errs_df[idx]"
   ]
  },
  {
   "cell_type": "code",
   "execution_count": null,
   "id": "b952397f",
   "metadata": {},
   "outputs": [],
   "source": []
  }
 ],
 "metadata": {
  "kernelspec": {
   "display_name": "Python 3 (ipykernel)",
   "language": "python",
   "name": "python3"
  },
  "language_info": {
   "codemirror_mode": {
    "name": "ipython",
    "version": 3
   },
   "file_extension": ".py",
   "mimetype": "text/x-python",
   "name": "python",
   "nbconvert_exporter": "python",
   "pygments_lexer": "ipython3",
   "version": "3.11.2"
  }
 },
 "nbformat": 4,
 "nbformat_minor": 5
}
