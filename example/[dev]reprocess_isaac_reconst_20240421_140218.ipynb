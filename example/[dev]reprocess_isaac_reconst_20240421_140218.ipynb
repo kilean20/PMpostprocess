{
 "cells": [
  {
   "cell_type": "code",
   "execution_count": 1,
   "id": "79195d1a-e20f-40e3-b5a2-5d805a42d03d",
   "metadata": {},
   "outputs": [
    {
     "name": "stdout",
     "output_type": "stream",
     "text": [
      "profilemonitor_plot_util start\n"
     ]
    }
   ],
   "source": [
    "import sys\n",
    "import math\n",
    "import numpy as np\n",
    "import pandas as pd\n",
    "import matplotlib.pyplot as plt\n",
    "import logging\n",
    "logging.basicConfig(\n",
    "    level=logging.INFO,  # Set the minimum logging level to INFO\n",
    "    format='%(asctime)s - %(name)s - %(levelname)s - %(message)s'\n",
    ")\n",
    "\n",
    "sys.path.append('../')\n",
    "from PMpostprocess import PMpostprocess as pp\n",
    "from PMpostprocess import signal_processing as sp"
   ]
  },
  {
   "cell_type": "code",
   "execution_count": 2,
   "id": "0359995f",
   "metadata": {},
   "outputs": [],
   "source": [
    "import warnings\n",
    "from contextlib import contextmanager\n",
    "\n",
    "@contextmanager\n",
    "def capture_warnings():\n",
    "    \"\"\"\n",
    "    A context manager to capture and print warnings within a block of code.\n",
    "    \"\"\"\n",
    "    with warnings.catch_warnings(record=True) as caught_warnings:\n",
    "        warnings.simplefilter(\"always\")  # Always capture warnings\n",
    "        yield  # Allow code execution within the context\n",
    "        for w in caught_warnings:\n",
    "            print(f\"Warning message: {w.message}\")\n",
    "            print(f\"Warning type: {w.category.__name__}\")\n",
    "            print(f\"Originated from: {w.filename}, line {w.lineno}\")"
   ]
  },
  {
   "cell_type": "code",
   "execution_count": null,
   "id": "a788a8f0",
   "metadata": {},
   "outputs": [],
   "source": []
  },
  {
   "cell_type": "code",
   "execution_count": 3,
   "id": "fbc6ebfd",
   "metadata": {},
   "outputs": [
    {
     "name": "stdout",
     "output_type": "stream",
     "text": [
      "FRIB_model version: 1.0.0. updated on 2024-03-05\n"
     ]
    }
   ],
   "source": [
    "sys.path.append('../../')\n",
    "from FRIB_model import ISAAC_helper as ih"
   ]
  },
  {
   "cell_type": "code",
   "execution_count": 4,
   "id": "10313ef4",
   "metadata": {},
   "outputs": [],
   "source": [
    "import os\n",
    "ISAAC_database_path = \"/home/devuser/sf_HWANG/Workspace/BPM4pickup/ISAAC_data_PMver0\"\n",
    "ISAAC_data_rel_path = \"20240421_140218_maruta_FS1_CSS_PM_D2225_pv_scan_1st\"\n",
    "#\"20240528_200129_hwang_FS1_CSS_PM_D2225_pv_scan\"\n",
    "isac_data = ih.get_most_recent_reconst_data(ISAAC_data_rel_path,ISAAC_database_path)"
   ]
  },
  {
   "cell_type": "code",
   "execution_count": 5,
   "id": "7fa8e66f",
   "metadata": {},
   "outputs": [
    {
     "data": {
      "text/plain": [
       "dict_keys(['reconst_summary', 'reconst_input', 'reconst_output', 'fmlatfile'])"
      ]
     },
     "execution_count": 5,
     "metadata": {},
     "output_type": "execute_result"
    }
   ],
   "source": [
    "isac_data.keys()"
   ]
  },
  {
   "cell_type": "markdown",
   "id": "ffafe4a3",
   "metadata": {},
   "source": [
    "# summary data"
   ]
  },
  {
   "cell_type": "code",
   "execution_count": 6,
   "id": "3f9877e3",
   "metadata": {},
   "outputs": [
    {
     "data": {
      "text/plain": [
       "dict_keys(['comment', 'time', 'jsonfname', 'fname', 'pvinfo', 'scan_type', 'monitorl', 'putPVnamel', 'getPVnamel', 'initputPVvall', 'initgetPVvall', 'scan_data'])"
      ]
     },
     "execution_count": 6,
     "metadata": {},
     "output_type": "execute_result"
    }
   ],
   "source": [
    "isac_data['reconst_summary'].keys()"
   ]
  },
  {
   "cell_type": "code",
   "execution_count": 7,
   "id": "6fc09727",
   "metadata": {},
   "outputs": [
    {
     "data": {
      "text/plain": [
       "dict_keys(['putPVvall', 'getPVvall', 'res_monitorl'])"
      ]
     },
     "execution_count": 7,
     "metadata": {},
     "output_type": "execute_result"
    }
   ],
   "source": [
    "isac_data['reconst_summary']['scan_data'][0].keys()"
   ]
  },
  {
   "cell_type": "code",
   "execution_count": 8,
   "id": "b2ad407d",
   "metadata": {},
   "outputs": [
    {
     "data": {
      "text/plain": [
       "{'FS1_CSS:PSQ_D2194:I_RD': 65.753, 'FS1_CSS:PSQ_D2202:I_RD': 104.281}"
      ]
     },
     "execution_count": 8,
     "metadata": {},
     "output_type": "execute_result"
    }
   ],
   "source": [
    "isac_data['reconst_summary']['scan_data'][0]['getPVvall']"
   ]
  },
  {
   "cell_type": "code",
   "execution_count": 9,
   "id": "bbd60454",
   "metadata": {},
   "outputs": [
    {
     "data": {
      "text/plain": [
       "('FS1_CSS:PM_D2225',\n",
       " './/FS1_CSS_PM_D2225_20240421_140238.dat',\n",
       " 'Suxy',\n",
       " 1.9280020620522715)"
      ]
     },
     "execution_count": 9,
     "metadata": {},
     "output_type": "execute_result"
    }
   ],
   "source": [
    "tmp = isac_data['reconst_summary']['scan_data'][0]['res_monitorl'][0]\n",
    "tmp['name'], tmp['file'], tmp['coord'], tmp['xrms']"
   ]
  },
  {
   "cell_type": "markdown",
   "id": "86b3b0dc",
   "metadata": {},
   "source": [
    "# reconst input data"
   ]
  },
  {
   "cell_type": "code",
   "execution_count": 10,
   "id": "0794ee1e",
   "metadata": {},
   "outputs": [
    {
     "data": {
      "text/plain": [
       "dict_keys(['meas', 'reconst_input', 'jsonfname'])"
      ]
     },
     "execution_count": 10,
     "metadata": {},
     "output_type": "execute_result"
    }
   ],
   "source": [
    "isac_data['reconst_input'].keys()"
   ]
  },
  {
   "cell_type": "code",
   "execution_count": 11,
   "id": "bd5e4b44",
   "metadata": {},
   "outputs": [
    {
     "data": {
      "text/plain": [
       "dict_keys(['flamevall', 'monitorl'])"
      ]
     },
     "execution_count": 11,
     "metadata": {},
     "output_type": "execute_result"
    }
   ],
   "source": [
    "isac_data['reconst_input']['meas'][0].keys()"
   ]
  },
  {
   "cell_type": "code",
   "execution_count": 12,
   "id": "6b3f4927",
   "metadata": {},
   "outputs": [
    {
     "data": {
      "text/plain": [
       "dict_keys(['model_engine', 'version', 'lattice_model', 'selem', 'eelem', 'flat', 'opt_method', 'iteration_no', 'comment', 'scan_type', 'monitorl', 'opt_flg', 'opt_target', 'measurement_select', 'moment_init_param', 'moment_weightl', 'moment_init_paraml', 'moment_weightl2', 'target_knobs_comment', 'target_knobs', 'monitor_knobs'])"
      ]
     },
     "execution_count": 12,
     "metadata": {},
     "output_type": "execute_result"
    }
   ],
   "source": [
    "isac_data['reconst_input']['reconst_input'].keys()"
   ]
  },
  {
   "cell_type": "code",
   "execution_count": 13,
   "id": "f5b32c53",
   "metadata": {},
   "outputs": [
    {
     "data": {
      "text/plain": [
       "['moment1', 'moment1', 'moment1', 'moment1', 'moment1', 'moment1', 'moment1']"
      ]
     },
     "execution_count": 13,
     "metadata": {},
     "output_type": "execute_result"
    }
   ],
   "source": [
    "assert isac_data['reconst_input']['reconst_input']['opt_target'][-1] == 'moment1'\n",
    "isac_data['reconst_input']['reconst_input']['opt_target']"
   ]
  },
  {
   "cell_type": "code",
   "execution_count": 14,
   "id": "63a47c8c",
   "metadata": {},
   "outputs": [
    {
     "data": {
      "text/plain": [
       "[0, 0, 0, 0, 0, 0, 2, 2, 2, 2, 2]"
      ]
     },
     "execution_count": 14,
     "metadata": {},
     "output_type": "execute_result"
    }
   ],
   "source": [
    "isac_data['reconst_input']['reconst_input']['measurement_select'][-1]['yrms']"
   ]
  },
  {
   "cell_type": "code",
   "execution_count": 15,
   "id": "c4f08294",
   "metadata": {},
   "outputs": [
    {
     "data": {
      "text/plain": [
       "\"((ename,[min_val, max_val, initial_val, field, unit]),('FE_LEBT:QHE_D0844',[-10, 10, 0, 'dy','mm']))\""
      ]
     },
     "execution_count": 15,
     "metadata": {},
     "output_type": "execute_result"
    }
   ],
   "source": [
    "isac_data['reconst_input']['reconst_input']['target_knobs_comment']"
   ]
  },
  {
   "cell_type": "markdown",
   "id": "454de3d9",
   "metadata": {},
   "source": [
    "# reconst output data"
   ]
  },
  {
   "cell_type": "code",
   "execution_count": 16,
   "id": "d65de2e6",
   "metadata": {},
   "outputs": [
    {
     "data": {
      "text/plain": [
       "dict_keys(['meas', 'reconst_input', 'jsonfname', 'fjson_output', 'reconst_output'])"
      ]
     },
     "execution_count": 16,
     "metadata": {},
     "output_type": "execute_result"
    }
   ],
   "source": [
    "isac_data['reconst_output'].keys()"
   ]
  },
  {
   "cell_type": "code",
   "execution_count": 17,
   "id": "8fdea445",
   "metadata": {},
   "outputs": [
    {
     "data": {
      "text/plain": [
       "dict_keys(['flamevall', 'monitorl'])"
      ]
     },
     "execution_count": 17,
     "metadata": {},
     "output_type": "execute_result"
    }
   ],
   "source": [
    "isac_data['reconst_output']['meas'][0].keys()"
   ]
  },
  {
   "cell_type": "code",
   "execution_count": 18,
   "id": "420877e8",
   "metadata": {},
   "outputs": [
    {
     "data": {
      "text/plain": [
       "dict_keys(['model_engine', 'version', 'lattice_model', 'selem', 'eelem', 'flat', 'opt_method', 'iteration_no', 'comment', 'scan_type', 'monitorl', 'opt_flg', 'opt_target', 'measurement_select', 'moment_init_param', 'moment_weightl', 'moment_init_paraml', 'moment_weightl2', 'target_knobs_comment', 'target_knobs', 'monitor_knobs'])"
      ]
     },
     "execution_count": 18,
     "metadata": {},
     "output_type": "execute_result"
    }
   ],
   "source": [
    "isac_data['reconst_output']['reconst_input'].keys()"
   ]
  },
  {
   "cell_type": "code",
   "execution_count": 19,
   "id": "6c6cab6c",
   "metadata": {},
   "outputs": [
    {
     "data": {
      "text/plain": [
       "dict_keys(['posl', 'xdatal', 'xlabel', 'flat', 'pv_name', 'title', 'xcenl_meas', 'ycenl_meas', 'xcenl_sim', 'ycenl_sim', 'xrmsl_meas', 'yrmsl_meas', 'cxyl_meas', 'xrmsl_sim', 'yrmsl_sim', 'cxyl_sim', 'moment_init_param', 'moment_opt_param'])"
      ]
     },
     "execution_count": 19,
     "metadata": {},
     "output_type": "execute_result"
    }
   ],
   "source": [
    "isac_data['reconst_output']['reconst_output'].keys()"
   ]
  },
  {
   "cell_type": "code",
   "execution_count": 20,
   "id": "477249d6",
   "metadata": {},
   "outputs": [
    {
     "data": {
      "text/plain": [
       "'/files/shared/ap/ISAAC/data/20240421_140218_maruta_FS1_CSS_PM_D2225_pv_scan/summary_20240421_140218_reconst_output_3d/flame_reconst_input.lat'"
      ]
     },
     "execution_count": 20,
     "metadata": {},
     "output_type": "execute_result"
    }
   ],
   "source": [
    "isac_data['reconst_output']['reconst_output']['flat']"
   ]
  },
  {
   "cell_type": "code",
   "execution_count": 21,
   "id": "6748da73",
   "metadata": {
    "scrolled": true
   },
   "outputs": [
    {
     "data": {
      "text/plain": [
       "[0.25857486189020107,\n",
       " 4.608323682757103,\n",
       " 4.9106971747818395,\n",
       " 0.11083098743154102,\n",
       " 2.476651255551925,\n",
       " 4.917041306489429,\n",
       " -2.1974874796585805e-06,\n",
       " -0.18290867391945426,\n",
       " 0.04445012003205638,\n",
       " -0.07108212024379634]"
      ]
     },
     "execution_count": 21,
     "metadata": {},
     "output_type": "execute_result"
    }
   ],
   "source": [
    "isac_data['reconst_output']['reconst_output']['moment_opt_param']"
   ]
  },
  {
   "cell_type": "markdown",
   "id": "12c993ef",
   "metadata": {},
   "source": [
    "# Read PM raw data"
   ]
  },
  {
   "cell_type": "code",
   "execution_count": 22,
   "id": "df9d9fe6",
   "metadata": {},
   "outputs": [
    {
     "name": "stdout",
     "output_type": "stream",
     "text": [
      "[2, 2, 2, 2, 0, 0, 0, 0, 0, 0, 0]\n",
      "[0, 0, 0, 0, 0, 0, 2, 2, 2, 2, 2]\n"
     ]
    }
   ],
   "source": [
    "print(isac_data['reconst_input']['reconst_input']['measurement_select'][-1]['xrms'])\n",
    "print(isac_data['reconst_input']['reconst_input']['measurement_select'][-1]['yrms'])"
   ]
  },
  {
   "cell_type": "code",
   "execution_count": 23,
   "id": "cc76123a",
   "metadata": {},
   "outputs": [
    {
     "data": {
      "text/plain": [
       "11"
      ]
     },
     "execution_count": 23,
     "metadata": {},
     "output_type": "execute_result"
    }
   ],
   "source": [
    "scan_data = isac_data['reconst_summary']['scan_data']\n",
    "len(scan_data)"
   ]
  },
  {
   "cell_type": "code",
   "execution_count": 24,
   "id": "a20a6d9f",
   "metadata": {},
   "outputs": [
    {
     "data": {
      "text/plain": [
       "['FS1_CSS_PM_D2225_20240421_140238.dat',\n",
       " 'FS1_CSS_PM_D2225_20240421_144741.dat',\n",
       " 'FS1_CSS_PM_D2225_20240421_140447.dat',\n",
       " 'FS1_CSS_PM_D2225_20240421_141827.dat',\n",
       " 'FS1_CSS_PM_D2225_20240421_140656.dat',\n",
       " 'FS1_CSS_PM_D2225_20240421_143306.dat',\n",
       " 'FS1_CSS_PM_D2225_20240421_140907.dat',\n",
       " 'FS1_CSS_PM_D2225_20240421_142247.dat',\n",
       " 'FS1_CSS_PM_D2225_20240421_141116.dat',\n",
       " 'FS1_CSS_PM_D2225_20240421_142659.dat',\n",
       " 'FS1_CSS_PM_D2225_20240421_141325.dat']"
      ]
     },
     "execution_count": 24,
     "metadata": {},
     "output_type": "execute_result"
    }
   ],
   "source": [
    "raw_data_flist = [scan_data[i]['res_monitorl'][0]['file'][3:] for i in range(len(scan_data))]\n",
    "raw_data_flist"
   ]
  },
  {
   "cell_type": "code",
   "execution_count": 25,
   "id": "a531bc25",
   "metadata": {},
   "outputs": [
    {
     "data": {
      "text/plain": [
       "['FS1_CSS_PM_D2225_20240421_140238.dat',\n",
       " 'FS1_CSS_PM_D2225_20240421_140447.dat',\n",
       " 'FS1_CSS_PM_D2225_20240421_140656.dat',\n",
       " 'FS1_CSS_PM_D2225_20240421_140907.dat',\n",
       " 'FS1_CSS_PM_D2225_20240421_141116.dat',\n",
       " 'FS1_CSS_PM_D2225_20240421_141325.dat',\n",
       " 'FS1_CSS_PM_D2225_20240421_141827.dat',\n",
       " 'FS1_CSS_PM_D2225_20240421_142038.dat',\n",
       " 'FS1_CSS_PM_D2225_20240421_142247.dat',\n",
       " 'FS1_CSS_PM_D2225_20240421_142659.dat',\n",
       " 'FS1_CSS_PM_D2225_20240421_143306.dat',\n",
       " 'FS1_CSS_PM_D2225_20240421_144741.dat',\n",
       " 'FS1_CSS_PM_D2225_20240421_151710.dat',\n",
       " 'FS1_CSS_PM_D2225_20240421_151919.dat',\n",
       " 'FS1_CSS_PM_D2225_20240421_152128.dat',\n",
       " 'FS1_CSS_PM_D2225_20240421_152339.dat',\n",
       " 'FS1_CSS_PM_D2225_20240421_152548.dat',\n",
       " 'FS1_CSS_PM_D2225_20240421_152756.dat',\n",
       " 'FS1_CSS_PM_D2225_20240421_153036.dat',\n",
       " 'FS1_CSS_PM_D2225_20240421_153515.dat',\n",
       " 'FS1_CSS_PM_D2225_20240421_153725.dat',\n",
       " 'FS1_CSS_PM_D2225_20240421_153933.dat']"
      ]
     },
     "execution_count": 25,
     "metadata": {},
     "output_type": "execute_result"
    }
   ],
   "source": [
    "raw= pp.read_raw_data_from_directory(os.path.join(ISAAC_database_path,ISAAC_data_rel_path))\n",
    "for rel_path in ih.get_related_ISAAC_data_rel_path(ISAAC_data_rel_path,ISAAC_database_path,within_minutes=100):\n",
    "    raw.update(pp.read_raw_data_from_directory(os.path.join(ISAAC_database_path,rel_path)))\n",
    "raw_data_flist2 = list(raw.keys())\n",
    "raw_data_flist2"
   ]
  },
  {
   "cell_type": "code",
   "execution_count": 26,
   "id": "6342fbd6",
   "metadata": {},
   "outputs": [],
   "source": [
    "\n",
    "for key, value in raw.items():\n",
    "    r = 0.5 * value['wire_diam']\n",
    "    value['postprocess'] = {'denoised': [],\n",
    "                            'projected': {}}\n",
    "    rms = []\n",
    "    arr_rms = []\n",
    "    for ic, coord in enumerate(value['coord'][1:]):\n",
    "        x = value['lraw'][ic][0]\n",
    "        y = value['lraw'][ic][1]\n",
    "        with capture_warnings():\n",
    "            tmp = sp.process_profile_signal(x, y, r)\n",
    "        value['postprocess']['denoised'].append(tmp)\n",
    "        rms.append(tmp['rms_deconv'])\n",
    "        arr_rms.append(tmp['MC_stat']['arr_deconv_rms'])\n",
    "    value.pop('lraw')\n",
    "\n",
    "    with capture_warnings():\n",
    "        x,y,cxy,u,v = sp.project_L3_to_xyuv(*rms,value)\n",
    "    with capture_warnings():    \n",
    "        arr_x,arr_y,arr_cxy,arr_u,arr_v = sp.project_L3_to_xyuv(*arr_rms,value)\n",
    "    value['postprocess']['projected']['xrms']=x\n",
    "    value['postprocess']['projected']['yrms']=y\n",
    "    value['postprocess']['projected']['cxy']=cxy\n",
    "    value['postprocess']['projected']['urms']=u\n",
    "    value['postprocess']['projected']['vrms']=v\n",
    "    value['postprocess']['projected']['xrms_err']=np.std(arr_x)\n",
    "    value['postprocess']['projected']['yrms_err']=np.std(arr_y)\n",
    "    value['postprocess']['projected']['cxy_err']=np.std(arr_cxy)\n",
    "    value['postprocess']['projected']['u_err']=np.std(arr_u)\n",
    "    value['postprocess']['projected']['v_err']=np.std(arr_v)"
   ]
  },
  {
   "cell_type": "code",
   "execution_count": 27,
   "id": "0ccd91fa",
   "metadata": {},
   "outputs": [],
   "source": [
    "# f = 'FS1_CSS_PM_D2225_20240528_200148.dat'\n",
    "# plt.figure(figsize=(4,2))\n",
    "# plt.plot(raw[f]['postprocess']['denoised'][0]['smoothed'])"
   ]
  },
  {
   "cell_type": "markdown",
   "id": "b69dff3c",
   "metadata": {},
   "source": [
    "# Organize for flame reconst input"
   ]
  },
  {
   "cell_type": "code",
   "execution_count": 28,
   "id": "c885a44f",
   "metadata": {},
   "outputs": [],
   "source": [
    "from FRIB_model import flame_helper as fh\n",
    "fm_orig = fh.ModelFlame(isac_data['fmlatfile'])\n",
    "fm = fh.ModelFlame(isac_data['fmlatfile'])"
   ]
  },
  {
   "cell_type": "code",
   "execution_count": 29,
   "id": "eacf8c0a",
   "metadata": {},
   "outputs": [],
   "source": [
    "nscan = len(isac_data['reconst_input']['meas'])\n",
    "select = isac_data['reconst_input']['reconst_input']['measurement_select'][-1]\n",
    "assert nscan == len(raw_data_flist)\n",
    "\n",
    "fm_evals = {}\n",
    "fm_goals = {}\n",
    "fm_goals_postprocessed = {}\n",
    "fm_goals_err = {}\n",
    "\n",
    "for i in range(nscan):\n",
    "    for fm_elem,val_field in isac_data['reconst_input']['meas'][i]['flamevall'].items():\n",
    "        k = (fm_elem,val_field[1])\n",
    "        if k not in fm_evals:\n",
    "            fm_evals[k] = [None]*nscan\n",
    "        fm_evals[k][i] = val_field[0]\n",
    "        \n",
    "    for fm_elem,meas in isac_data['reconst_input']['meas'][i]['monitorl'].items():\n",
    "        for goal in ['xrms','yrms','cxy']:\n",
    "            k = (fm_elem,goal)\n",
    "            if k not in fm_goals:\n",
    "                fm_goals[k] = [None]*nscan\n",
    "                fm_goals_postprocessed[k] = [None]*nscan\n",
    "                fm_goals_err[k] = [None]*nscan\n",
    "            # if selected, record goal\n",
    "            if select[goal][i]: \n",
    "                fm_goals[k][i] = meas[goal]\n",
    "                fm_goals_postprocessed[k][i] = raw[raw_data_flist[i]]['postprocess']['projected'][goal]\n",
    "                fm_goals_err[k][i] = raw[raw_data_flist[i]]['postprocess']['projected'][goal+'_err']\n",
    "                \n",
    "fm_evals = fh.make_FLAME_evals_or_goals(fm,df=pd.DataFrame(fm_evals))\n",
    "fm_goals = fh.make_FLAME_evals_or_goals(fm,df=pd.DataFrame(fm_goals))\n",
    "fm_goals_postprocessed = fh.make_FLAME_evals_or_goals(fm,df=pd.DataFrame(fm_goals_postprocessed))\n",
    "\n",
    "fm_goals_err = pd.DataFrame(fm_goals_err)\n",
    "scaler = np.mean(fm_goals_postprocessed['df'].std()/fm_goals_err.mean())\n",
    "# fm_goals['normalization_factor'] = fm_goals_err\n",
    "fm_goals_postprocessed['normalization_factor'] = fm_goals_err*scaler  # make loss roughly order of 1"
   ]
  },
  {
   "cell_type": "code",
   "execution_count": 30,
   "id": "64e82064",
   "metadata": {},
   "outputs": [
    {
     "data": {
      "text/plain": [
       "{'info': {'FS1_CSS:QH_D2194': {'index': 100},\n",
       "  'FS1_CSS:QV_D2202': {'index': 104}},\n",
       " 'df':    FS1_CSS:QH_D2194 FS1_CSS:QV_D2202\n",
       "                  B2               B2\n",
       " 0           7.79765        -12.36668\n",
       " 1           8.76214        -12.36668\n",
       " 2           9.81842        -12.36574\n",
       " 3          10.65401        -12.36668\n",
       " 4          11.83920        -12.36574\n",
       " 5          12.79515        -12.36668\n",
       " 6           5.77308        -10.82952\n",
       " 7           5.77213        -11.60806\n",
       " 8           5.77308        -12.38281\n",
       " 9           5.77308        -13.03506\n",
       " 10          5.77308        -13.93231}"
      ]
     },
     "execution_count": 30,
     "metadata": {},
     "output_type": "execute_result"
    }
   ],
   "source": [
    "fm_evals"
   ]
  },
  {
   "cell_type": "code",
   "execution_count": 31,
   "id": "225b2e80",
   "metadata": {},
   "outputs": [
    {
     "data": {
      "text/plain": [
       "{'info': {'FS1_CSS:PM_D2225': {'index': 117}},\n",
       " 'df':    FS1_CSS:PM_D2225                  \n",
       "                xrms     yrms      cxy\n",
       " 0           1.92800      NaN -0.06072\n",
       " 1           0.92031      NaN -0.02683\n",
       " 2           0.47139      NaN  0.38515\n",
       " 3           1.35075      NaN  0.36085\n",
       " 4               NaN      NaN  0.29826\n",
       " 5               NaN      NaN  0.34669\n",
       " 6               NaN  2.50952 -0.10732\n",
       " 7               NaN  1.37676 -0.13447\n",
       " 8               NaN  0.37788 -0.16403\n",
       " 9               NaN  0.98336      NaN\n",
       " 10              NaN  2.30465      NaN}"
      ]
     },
     "execution_count": 31,
     "metadata": {},
     "output_type": "execute_result"
    }
   ],
   "source": [
    "fm_goals"
   ]
  },
  {
   "cell_type": "code",
   "execution_count": 37,
   "id": "e3a06cc7",
   "metadata": {},
   "outputs": [
    {
     "data": {
      "text/html": [
       "<div>\n",
       "<style scoped>\n",
       "    .dataframe tbody tr th:only-of-type {\n",
       "        vertical-align: middle;\n",
       "    }\n",
       "\n",
       "    .dataframe tbody tr th {\n",
       "        vertical-align: top;\n",
       "    }\n",
       "\n",
       "    .dataframe thead tr th {\n",
       "        text-align: left;\n",
       "    }\n",
       "</style>\n",
       "<table border=\"1\" class=\"dataframe\">\n",
       "  <thead>\n",
       "    <tr>\n",
       "      <th></th>\n",
       "      <th colspan=\"3\" halign=\"left\">FS1_CSS:PM_D2225</th>\n",
       "    </tr>\n",
       "    <tr>\n",
       "      <th></th>\n",
       "      <th>xrms</th>\n",
       "      <th>yrms</th>\n",
       "      <th>cxy</th>\n",
       "    </tr>\n",
       "  </thead>\n",
       "  <tbody>\n",
       "    <tr>\n",
       "      <th>0</th>\n",
       "      <td>1.927913</td>\n",
       "      <td>NaN</td>\n",
       "      <td>-0.069275</td>\n",
       "    </tr>\n",
       "    <tr>\n",
       "      <th>1</th>\n",
       "      <td>0.916559</td>\n",
       "      <td>NaN</td>\n",
       "      <td>-0.040085</td>\n",
       "    </tr>\n",
       "    <tr>\n",
       "      <th>2</th>\n",
       "      <td>0.448055</td>\n",
       "      <td>NaN</td>\n",
       "      <td>0.407908</td>\n",
       "    </tr>\n",
       "    <tr>\n",
       "      <th>3</th>\n",
       "      <td>1.350790</td>\n",
       "      <td>NaN</td>\n",
       "      <td>0.242821</td>\n",
       "    </tr>\n",
       "    <tr>\n",
       "      <th>4</th>\n",
       "      <td>NaN</td>\n",
       "      <td>NaN</td>\n",
       "      <td>0.291118</td>\n",
       "    </tr>\n",
       "    <tr>\n",
       "      <th>5</th>\n",
       "      <td>NaN</td>\n",
       "      <td>NaN</td>\n",
       "      <td>0.375129</td>\n",
       "    </tr>\n",
       "    <tr>\n",
       "      <th>6</th>\n",
       "      <td>NaN</td>\n",
       "      <td>2.500396</td>\n",
       "      <td>-0.104585</td>\n",
       "    </tr>\n",
       "    <tr>\n",
       "      <th>7</th>\n",
       "      <td>NaN</td>\n",
       "      <td>1.381674</td>\n",
       "      <td>-0.137782</td>\n",
       "    </tr>\n",
       "    <tr>\n",
       "      <th>8</th>\n",
       "      <td>NaN</td>\n",
       "      <td>0.376186</td>\n",
       "      <td>-0.170990</td>\n",
       "    </tr>\n",
       "    <tr>\n",
       "      <th>9</th>\n",
       "      <td>NaN</td>\n",
       "      <td>0.960846</td>\n",
       "      <td>NaN</td>\n",
       "    </tr>\n",
       "    <tr>\n",
       "      <th>10</th>\n",
       "      <td>NaN</td>\n",
       "      <td>2.313059</td>\n",
       "      <td>NaN</td>\n",
       "    </tr>\n",
       "  </tbody>\n",
       "</table>\n",
       "</div>"
      ],
      "text/plain": [
       "   FS1_CSS:PM_D2225                    \n",
       "               xrms      yrms       cxy\n",
       "0          1.927913       NaN -0.069275\n",
       "1          0.916559       NaN -0.040085\n",
       "2          0.448055       NaN  0.407908\n",
       "3          1.350790       NaN  0.242821\n",
       "4               NaN       NaN  0.291118\n",
       "5               NaN       NaN  0.375129\n",
       "6               NaN  2.500396 -0.104585\n",
       "7               NaN  1.381674 -0.137782\n",
       "8               NaN  0.376186 -0.170990\n",
       "9               NaN  0.960846       NaN\n",
       "10              NaN  2.313059       NaN"
      ]
     },
     "execution_count": 37,
     "metadata": {},
     "output_type": "execute_result"
    }
   ],
   "source": [
    "fm_goals_postprocessed['df']"
   ]
  },
  {
   "cell_type": "code",
   "execution_count": 33,
   "id": "bf29f98a",
   "metadata": {},
   "outputs": [
    {
     "data": {
      "text/html": [
       "<div>\n",
       "<style scoped>\n",
       "    .dataframe tbody tr th:only-of-type {\n",
       "        vertical-align: middle;\n",
       "    }\n",
       "\n",
       "    .dataframe tbody tr th {\n",
       "        vertical-align: top;\n",
       "    }\n",
       "\n",
       "    .dataframe thead tr th {\n",
       "        text-align: left;\n",
       "    }\n",
       "</style>\n",
       "<table border=\"1\" class=\"dataframe\">\n",
       "  <thead>\n",
       "    <tr>\n",
       "      <th></th>\n",
       "      <th colspan=\"3\" halign=\"left\">FS1_CSS:PM_D2225</th>\n",
       "    </tr>\n",
       "    <tr>\n",
       "      <th></th>\n",
       "      <th>xrms</th>\n",
       "      <th>yrms</th>\n",
       "      <th>cxy</th>\n",
       "    </tr>\n",
       "  </thead>\n",
       "  <tbody>\n",
       "    <tr>\n",
       "      <th>0</th>\n",
       "      <td>0.001338</td>\n",
       "      <td>NaN</td>\n",
       "      <td>0.005941</td>\n",
       "    </tr>\n",
       "    <tr>\n",
       "      <th>1</th>\n",
       "      <td>0.001542</td>\n",
       "      <td>NaN</td>\n",
       "      <td>0.009108</td>\n",
       "    </tr>\n",
       "    <tr>\n",
       "      <th>2</th>\n",
       "      <td>0.001026</td>\n",
       "      <td>NaN</td>\n",
       "      <td>0.039506</td>\n",
       "    </tr>\n",
       "    <tr>\n",
       "      <th>3</th>\n",
       "      <td>0.000813</td>\n",
       "      <td>NaN</td>\n",
       "      <td>0.025690</td>\n",
       "    </tr>\n",
       "    <tr>\n",
       "      <th>4</th>\n",
       "      <td>NaN</td>\n",
       "      <td>NaN</td>\n",
       "      <td>0.030783</td>\n",
       "    </tr>\n",
       "    <tr>\n",
       "      <th>5</th>\n",
       "      <td>NaN</td>\n",
       "      <td>NaN</td>\n",
       "      <td>0.026850</td>\n",
       "    </tr>\n",
       "    <tr>\n",
       "      <th>6</th>\n",
       "      <td>NaN</td>\n",
       "      <td>0.018809</td>\n",
       "      <td>0.005324</td>\n",
       "    </tr>\n",
       "    <tr>\n",
       "      <th>7</th>\n",
       "      <td>NaN</td>\n",
       "      <td>0.005051</td>\n",
       "      <td>0.003491</td>\n",
       "    </tr>\n",
       "    <tr>\n",
       "      <th>8</th>\n",
       "      <td>NaN</td>\n",
       "      <td>0.001457</td>\n",
       "      <td>0.013593</td>\n",
       "    </tr>\n",
       "    <tr>\n",
       "      <th>9</th>\n",
       "      <td>NaN</td>\n",
       "      <td>0.003597</td>\n",
       "      <td>NaN</td>\n",
       "    </tr>\n",
       "    <tr>\n",
       "      <th>10</th>\n",
       "      <td>NaN</td>\n",
       "      <td>0.012611</td>\n",
       "      <td>NaN</td>\n",
       "    </tr>\n",
       "  </tbody>\n",
       "</table>\n",
       "</div>"
      ],
      "text/plain": [
       "   FS1_CSS:PM_D2225                    \n",
       "               xrms      yrms       cxy\n",
       "0          0.001338       NaN  0.005941\n",
       "1          0.001542       NaN  0.009108\n",
       "2          0.001026       NaN  0.039506\n",
       "3          0.000813       NaN  0.025690\n",
       "4               NaN       NaN  0.030783\n",
       "5               NaN       NaN  0.026850\n",
       "6               NaN  0.018809  0.005324\n",
       "7               NaN  0.005051  0.003491\n",
       "8               NaN  0.001457  0.013593\n",
       "9               NaN  0.003597       NaN\n",
       "10              NaN  0.012611       NaN"
      ]
     },
     "execution_count": 33,
     "metadata": {},
     "output_type": "execute_result"
    }
   ],
   "source": [
    "fm_goals_err"
   ]
  },
  {
   "cell_type": "markdown",
   "id": "0f5b3d36",
   "metadata": {},
   "source": [
    "### compare fittings"
   ]
  },
  {
   "cell_type": "code",
   "execution_count": 34,
   "id": "a1c1d0cc",
   "metadata": {},
   "outputs": [
    {
     "name": "stdout",
     "output_type": "stream",
     "text": [
      "0-th trial, current_loss: 0.00257, best_loss: 0.00257\n",
      "2-th trial, current_loss: 0.00257, best_loss: 0.00257\n"
     ]
    },
    {
     "data": {
      "text/plain": [
       "(array([0.21389025, 3.18141016, 0.32870614]),\n",
       " 0.7781032870254277,\n",
       " array([-0.42528906,  2.78674382,  0.42374573]),\n",
       " 0.85579517080842)"
      ]
     },
     "execution_count": 34,
     "metadata": {},
     "output_type": "execute_result"
    }
   ],
   "source": [
    "fh.fit_moment1(fm,fm_evals,fm_goals_postprocessed,stop_criteria=0.1)\n",
    "fm.bmstate.get_twiss('x'), fm.bmstate.xemittance, fm.bmstate.get_twiss('y'), fm.bmstate.yemittance"
   ]
  },
  {
   "cell_type": "code",
   "execution_count": 35,
   "id": "c7b6c1b0",
   "metadata": {},
   "outputs": [
    {
     "name": "stdout",
     "output_type": "stream",
     "text": [
      "0-th trial, current_loss: 0.00195, best_loss: 0.00195\n",
      "2-th trial, current_loss: 0.00155, best_loss: 0.00155\n"
     ]
    },
    {
     "data": {
      "text/plain": [
       "(array([0.16812521, 4.07654947, 0.25223932]),\n",
       " 0.18880013247678654,\n",
       " array([-0.41415798,  2.94427371,  0.39790011]),\n",
       " 0.16545374164908216)"
      ]
     },
     "execution_count": 35,
     "metadata": {},
     "output_type": "execute_result"
    }
   ],
   "source": [
    "fh.fit_moment1(fm,fm_evals,fm_goals)\n",
    "fm.bmstate.get_twiss('x'), fm.bmstate.xnemittance, fm.bmstate.get_twiss('y'), fm.bmstate.ynemittance"
   ]
  },
  {
   "cell_type": "code",
   "execution_count": 36,
   "id": "bf962acb",
   "metadata": {},
   "outputs": [
    {
     "data": {
      "text/plain": [
       "(array([0.22605875, 6.07082222, 0.17314007]),\n",
       " 0.24553420844292886,\n",
       " array([0.05119952, 3.01791607, 0.33222309]),\n",
       " 0.24585141418812814)"
      ]
     },
     "execution_count": 36,
     "metadata": {},
     "output_type": "execute_result"
    }
   ],
   "source": [
    "fm_orig.bmstate.get_twiss('x'), fm_orig.bmstate.xnemittance, fm_orig.bmstate.get_twiss('y'), fm_orig.bmstate.ynemittance"
   ]
  },
  {
   "cell_type": "code",
   "execution_count": null,
   "id": "8e9df7f1",
   "metadata": {},
   "outputs": [],
   "source": []
  },
  {
   "cell_type": "code",
   "execution_count": null,
   "id": "fadd4c15",
   "metadata": {},
   "outputs": [],
   "source": []
  },
  {
   "cell_type": "code",
   "execution_count": null,
   "id": "685a9a4f",
   "metadata": {},
   "outputs": [],
   "source": []
  },
  {
   "cell_type": "code",
   "execution_count": null,
   "id": "649d2208",
   "metadata": {},
   "outputs": [],
   "source": []
  },
  {
   "cell_type": "markdown",
   "id": "36bc4110",
   "metadata": {},
   "source": [
    "from PMpostprocess.PMpostprocess import *\n",
    "\n",
    "def estimate_two_noise_model(y,smoothed):\n",
    "    scaler = np.max(smoothed)-np.min(smoothed)\n",
    "    \n",
    "    y = y/scaler\n",
    "    smoothed = smoothed/scaler\n",
    "    \n",
    "    istart, iend = get_istart_iend_profile(smoothed)\n",
    "    var_ysmooth = np.var(smoothed)\n",
    "    var_noise = np.var(y-smoothed)\n",
    "    \n",
    "    noise_floor_offset, noise_floor_std = estimate_noise_floor(y,istart,iend)\n",
    "    y = cut_boundary(y,istart,iend,noise_floor_offset)\n",
    "    noise_signal_std = np.std(y[istart+1:iend-1]/smoothed[istart+1:iend-1])\n",
    "    \n",
    "    def loss(params):\n",
    "        sigma1, sigma2 = params\n",
    "        estimated_var_noise = sigma1**2 + sigma2**2 * var_ysmooth\n",
    "        regularization = (sigma1/noise_floor_std-1)**2 + (sigma2/noise_signal_std-1)**2\n",
    "        return 0.1*(estimated_var_noise/var_noise-1)**2 + 0.9*regularization\n",
    "\n",
    "    result = minimize(loss, [noise_floor_std,noise_signal_std], bounds=[(0, 0.2), (0, 0.2)])\n",
    "    noise_floor_std,noise_signal_std = result.x[0]*scaler,result.x[1]\n",
    "    \n",
    "    return noise_floor_std,noise_signal_std\n",
    "\n",
    "def smooth_n_wire_deconvolve(x,y,r):#,finetune_deconv=False):\n",
    "    \"\"\"\n",
    "    x : position array\n",
    "    y : signal array\n",
    "    r : wire radius\n",
    "    \"\"\"    \n",
    "    xu, smoothed = gaussian_smooth_with_deconvolution(x, y,is_x_uniform=False)\n",
    "    yu = interp1d(x, y)(xu)\n",
    "    n = len(xu)\n",
    "    if r is not None and r > 0:\n",
    "        xu, wire_deconvolved = wire_deconvolution(xu,smoothed,r,is_x_uniform=True)\n",
    "    else:\n",
    "        wire_deconvolved = smoothed\n",
    "    \n",
    "    istart, iend = get_istart_iend_profile(smoothed)\n",
    "    noise_offset, _ = estimate_noise_floor(yu,istart,iend)\n",
    "    yu = cut_boundary(yu,istart,iend,noise_offset)\n",
    "    \n",
    "    rms_beam_size   = measure_rms_size(xu, yu)\n",
    "    rms_smooth_size = measure_rms_size(xu, smoothed)\n",
    "    rms_deconv_size = measure_rms_size(xu, wire_deconvolved)\n",
    "    \n",
    "    smoothed = interp1d(xu,smoothed)(x)\n",
    "    wire_deconvolved = interp1d(xu,wire_deconvolved)(x)\n",
    "    \n",
    "    return smoothed, wire_deconvolved, rms_beam_size, rms_smooth_size, rms_deconv_size\n",
    "    \n",
    "    \n",
    "def rms_uncertainty_quantification(x,smoothed, noise_floor_std, noise_signal_std, r=None, nMC=100):\n",
    "    arr_deconv_rms = np.zeros(nMC)\n",
    "    arr_smooth_rms = np.zeros(nMC)\n",
    "    arr_noisy_rms = np.zeros(nMC)\n",
    "    arr_y_samples = np.zeros((nMC,len(x)))\n",
    "    for i in range(nMC):\n",
    "        y_ = smoothed*(1+noise_signal_std*np.random.randn(*x.shape)) + noise_floor_std*np.random.randn(*x.shape)\n",
    "        _,_, noisy_rms, smooth_rms, deconv_rms = smooth_n_wire_deconvolve(x,y_,r)\n",
    "        arr_smooth_rms[i] = smooth_rms\n",
    "        arr_deconv_rms[i] = deconv_rms\n",
    "        arr_noisy_rms[i] = noisy_rms\n",
    "        arr_y_samples[i] = y_\n",
    "\n",
    "    # Calculating statistics\n",
    "    smooth_mean, smooth_std = np.nanmean(arr_smooth_rms), np.nanstd(arr_smooth_rms)\n",
    "    deconv_mean, deconv_std = np.nanmean(arr_deconv_rms), np.nanstd(arr_deconv_rms)\n",
    "    noisy_mean , noisy_std  = np.nanmean(arr_noisy_rms), np.nanstd(arr_noisy_rms)\n",
    "\n",
    "    return {\n",
    "            \"smooth_mean\": smooth_mean,\n",
    "            \"smooth_std\": smooth_std,\n",
    "            \"deconv_mean\": deconv_mean,\n",
    "            \"deconv_std\": deconv_std,\n",
    "            \"noisy_mean\": noisy_mean,\n",
    "            \"noisy_std\": noisy_std,\n",
    "            \"y_samples\": arr_y_samples,\n",
    "            }\n",
    "    \n",
    "def process_raw_profile(x,y,r):\n",
    "    smoothed, wire_deconvolved, rms_noisy, rms_smooth, rms_deconv = smooth_n_wire_deconvolve(x,y,r)\n",
    "    noise_floor_std,noise_signal_std = estimate_two_noise_model(y,smoothed)\n",
    "    stat = rms_uncertainty_quantification(x, smoothed, noise_floor_std, noise_signal_std, r, nMC=100)\n",
    "    \n",
    "#     fig, axes = plt.subplots(1, 2, figsize=(14, 5), dpi=96)  # Create a figure with two subplots in a row\n",
    "#     axes[0].plot(x, y, color=\"black\", label=f\"Noisy Profile,  $\\\\sigma_x$={rms_noisy:.3f} $\\\\pm$ {stat['noisy_std']:.3f} mm\")\n",
    "#     axes[0].plot(x, smoothed, color=\"green\", label=f\"Smoothed,   $\\\\sigma_x$={rms_smooth:.3f} $\\\\pm$ {stat['smooth_std']:.3f} mm\")\n",
    "#     axes[0].plot(x, wire_deconvolved, '--', color=\"red\", label=f\"DeConvolved, $\\\\sigma_x$={rms_deconv:.3f} $\\\\pm$ {stat['deconv_std']:.3f} mm\")\n",
    "#     axes[0].legend()\n",
    "#     axes[0].set_xlabel(\"Position (mm)\")\n",
    "#     axes[0].set_ylabel(\"Signal Strength\")\n",
    "#     axes[0].set_ylim(0, 1.4 * max(y))\n",
    "#     axes[0].set_title(f\"Wire-thickness: {r:.3f} $mm$\")\n",
    "\n",
    "#     axes[1].plot(x, y - smoothed, 'k', label=\"Noisy - Smoothed\")\n",
    "#     for i in range(4):\n",
    "#         y_ = stat['y_samples'][i]\n",
    "#         axes[1].plot(x, y_ - smoothed, ':', label=f\"Sample {i+1}\")\n",
    "#     axes[1].set_xlabel(\"Position (mm)\")\n",
    "#     axes[1].set_ylabel(\"Difference\")\n",
    "#     axes[1].legend()\n",
    "#     axes[1].set_title(\"Differences with Smoothed Profile\")\n",
    "#     # Adjust layout for better spacing\n",
    "#     plt.tight_layout()\n"
   ]
  },
  {
   "cell_type": "raw",
   "id": "b35bc488",
   "metadata": {},
   "source": []
  }
 ],
 "metadata": {
  "kernelspec": {
   "display_name": "Python 3 (ipykernel)",
   "language": "python",
   "name": "python3"
  },
  "language_info": {
   "codemirror_mode": {
    "name": "ipython",
    "version": 3
   },
   "file_extension": ".py",
   "mimetype": "text/x-python",
   "name": "python",
   "nbconvert_exporter": "python",
   "pygments_lexer": "ipython3",
   "version": "3.11.2"
  }
 },
 "nbformat": 4,
 "nbformat_minor": 5
}
