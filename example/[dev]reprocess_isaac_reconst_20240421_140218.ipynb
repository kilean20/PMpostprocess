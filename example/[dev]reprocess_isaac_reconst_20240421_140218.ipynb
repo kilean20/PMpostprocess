{
 "cells": [
  {
   "cell_type": "code",
   "execution_count": 1,
   "id": "79195d1a-e20f-40e3-b5a2-5d805a42d03d",
   "metadata": {},
   "outputs": [
    {
     "name": "stdout",
     "output_type": "stream",
     "text": [
      "profilemonitor_plot_util start\n"
     ]
    }
   ],
   "source": [
    "import sys\n",
    "import math\n",
    "import numpy as np\n",
    "import pandas as pd\n",
    "import matplotlib.pyplot as plt\n",
    "import logging\n",
    "logging.basicConfig(\n",
    "    level=logging.INFO,  # Set the minimum logging level to INFO\n",
    "    format='%(asctime)s - %(name)s - %(levelname)s - %(message)s'\n",
    ")\n",
    "\n",
    "sys.path.append('../')\n",
    "from PMpostprocess import PMpostprocess as pp\n",
    "from PMpostprocess import signal_processing as sp"
   ]
  },
  {
   "cell_type": "code",
   "execution_count": 2,
   "id": "0359995f",
   "metadata": {},
   "outputs": [],
   "source": [
    "import warnings\n",
    "from contextlib import contextmanager\n",
    "\n",
    "@contextmanager\n",
    "def capture_warnings():\n",
    "    \"\"\"\n",
    "    A context manager to capture and print warnings within a block of code.\n",
    "    \"\"\"\n",
    "    with warnings.catch_warnings(record=True) as caught_warnings:\n",
    "        warnings.simplefilter(\"always\")  # Always capture warnings\n",
    "        yield  # Allow code execution within the context\n",
    "        for w in caught_warnings:\n",
    "            print(f\"Warning message: {w.message}\")\n",
    "            print(f\"Warning type: {w.category.__name__}\")\n",
    "            print(f\"Originated from: {w.filename}, line {w.lineno}\")"
   ]
  },
  {
   "cell_type": "code",
   "execution_count": null,
   "id": "a788a8f0",
   "metadata": {},
   "outputs": [],
   "source": []
  },
  {
   "cell_type": "code",
   "execution_count": 3,
   "id": "fbc6ebfd",
   "metadata": {},
   "outputs": [
    {
     "name": "stdout",
     "output_type": "stream",
     "text": [
      "FRIB_model version: 1.0.0. updated on 2024-03-05\n"
     ]
    }
   ],
   "source": [
    "sys.path.append('../../')\n",
    "from FRIB_model import ISAAC_helper as ih"
   ]
  },
  {
   "cell_type": "code",
   "execution_count": 4,
   "id": "10313ef4",
   "metadata": {},
   "outputs": [],
   "source": [
    "import os\n",
    "ISAAC_database_path = \"/home/devuser/sf_HWANG/Workspace/BPM4pickup/ISAAC_data_PMver0\"\n",
    "ISAAC_data_rel_path = \"20231219_010647_maruta_FS1_CSS_PM_D2225_pv_scan\"\n",
    "#\"20240528_200129_hwang_FS1_CSS_PM_D2225_pv_scan\"\n",
    "isac_data = ih.get_most_recent_reconst_data(ISAAC_data_rel_path,ISAAC_database_path)"
   ]
  },
  {
   "cell_type": "code",
   "execution_count": 5,
   "id": "7fa8e66f",
   "metadata": {},
   "outputs": [
    {
     "data": {
      "text/plain": [
       "dict_keys(['reconst_summary', 'reconst_input', 'reconst_output', 'fmlatfile'])"
      ]
     },
     "execution_count": 5,
     "metadata": {},
     "output_type": "execute_result"
    }
   ],
   "source": [
    "isac_data.keys()"
   ]
  },
  {
   "cell_type": "markdown",
   "id": "ffafe4a3",
   "metadata": {},
   "source": [
    "# summary data"
   ]
  },
  {
   "cell_type": "code",
   "execution_count": 6,
   "id": "3f9877e3",
   "metadata": {},
   "outputs": [
    {
     "data": {
      "text/plain": [
       "dict_keys(['comment', 'time', 'jsonfname', 'fname', 'pvinfo', 'scan_type', 'monitorl', 'putPVnamel', 'getPVnamel', 'initputPVvall', 'initgetPVvall', 'scan_data'])"
      ]
     },
     "execution_count": 6,
     "metadata": {},
     "output_type": "execute_result"
    }
   ],
   "source": [
    "isac_data['reconst_summary'].keys()"
   ]
  },
  {
   "cell_type": "code",
   "execution_count": 7,
   "id": "6fc09727",
   "metadata": {},
   "outputs": [
    {
     "data": {
      "text/plain": [
       "dict_keys(['putPVvall', 'getPVvall', 'res_monitorl'])"
      ]
     },
     "execution_count": 7,
     "metadata": {},
     "output_type": "execute_result"
    }
   ],
   "source": [
    "isac_data['reconst_summary']['scan_data'][0].keys()"
   ]
  },
  {
   "cell_type": "code",
   "execution_count": 8,
   "id": "b2ad407d",
   "metadata": {},
   "outputs": [
    {
     "data": {
      "text/plain": [
       "{'FS1_CSS:PSQ_D2194:I_RD': 48.865, 'FS1_CSS:PSQ_D2202:I_RD': 159.306}"
      ]
     },
     "execution_count": 8,
     "metadata": {},
     "output_type": "execute_result"
    }
   ],
   "source": [
    "isac_data['reconst_summary']['scan_data'][0]['getPVvall']"
   ]
  },
  {
   "cell_type": "code",
   "execution_count": 9,
   "id": "bbd60454",
   "metadata": {},
   "outputs": [
    {
     "data": {
      "text/plain": [
       "('FS1_CSS:PM_D2225',\n",
       " './/FS1_CSS_PM_D2225_20231219_010705.dat',\n",
       " 'Suxy',\n",
       " 5.845242977240003)"
      ]
     },
     "execution_count": 9,
     "metadata": {},
     "output_type": "execute_result"
    }
   ],
   "source": [
    "tmp = isac_data['reconst_summary']['scan_data'][0]['res_monitorl'][0]\n",
    "tmp['name'], tmp['file'], tmp['coord'], tmp['xrms']"
   ]
  },
  {
   "cell_type": "markdown",
   "id": "86b3b0dc",
   "metadata": {},
   "source": [
    "# reconst input data"
   ]
  },
  {
   "cell_type": "code",
   "execution_count": 10,
   "id": "0794ee1e",
   "metadata": {},
   "outputs": [
    {
     "data": {
      "text/plain": [
       "dict_keys(['meas', 'reconst_input', 'jsonfname'])"
      ]
     },
     "execution_count": 10,
     "metadata": {},
     "output_type": "execute_result"
    }
   ],
   "source": [
    "isac_data['reconst_input'].keys()"
   ]
  },
  {
   "cell_type": "code",
   "execution_count": 11,
   "id": "bd5e4b44",
   "metadata": {},
   "outputs": [
    {
     "data": {
      "text/plain": [
       "dict_keys(['flamevall', 'monitorl'])"
      ]
     },
     "execution_count": 11,
     "metadata": {},
     "output_type": "execute_result"
    }
   ],
   "source": [
    "isac_data['reconst_input']['meas'][0].keys()"
   ]
  },
  {
   "cell_type": "code",
   "execution_count": 12,
   "id": "6b3f4927",
   "metadata": {},
   "outputs": [
    {
     "data": {
      "text/plain": [
       "dict_keys(['model_engine', 'version', 'lattice_model', 'selem', 'eelem', 'flat', 'opt_method', 'iteration_no', 'comment', 'scan_type', 'monitorl', 'opt_flg', 'opt_target', 'measurement_select', 'moment_init_param', 'moment_weightl', 'moment_init_paraml', 'moment_weightl2', 'target_knobs_comment', 'target_knobs', 'monitor_knobs'])"
      ]
     },
     "execution_count": 12,
     "metadata": {},
     "output_type": "execute_result"
    }
   ],
   "source": [
    "isac_data['reconst_input']['reconst_input'].keys()"
   ]
  },
  {
   "cell_type": "code",
   "execution_count": 13,
   "id": "f5b32c53",
   "metadata": {},
   "outputs": [
    {
     "data": {
      "text/plain": [
       "['moment1', 'moment1']"
      ]
     },
     "execution_count": 13,
     "metadata": {},
     "output_type": "execute_result"
    }
   ],
   "source": [
    "assert isac_data['reconst_input']['reconst_input']['opt_target'][-1] == 'moment1'\n",
    "isac_data['reconst_input']['reconst_input']['opt_target']"
   ]
  },
  {
   "cell_type": "code",
   "execution_count": 14,
   "id": "63a47c8c",
   "metadata": {},
   "outputs": [
    {
     "data": {
      "text/plain": [
       "[2, 0, 2, 0, 2, 2]"
      ]
     },
     "execution_count": 14,
     "metadata": {},
     "output_type": "execute_result"
    }
   ],
   "source": [
    "isac_data['reconst_input']['reconst_input']['measurement_select'][-1]['yrms']"
   ]
  },
  {
   "cell_type": "code",
   "execution_count": 15,
   "id": "c4f08294",
   "metadata": {},
   "outputs": [
    {
     "data": {
      "text/plain": [
       "\"((ename,[min_val, max_val, initial_val, field, unit]),('FE_LEBT:QHE_D0844',[-10, 10, 0, 'dy','mm']))\""
      ]
     },
     "execution_count": 15,
     "metadata": {},
     "output_type": "execute_result"
    }
   ],
   "source": [
    "isac_data['reconst_input']['reconst_input']['target_knobs_comment']"
   ]
  },
  {
   "cell_type": "markdown",
   "id": "454de3d9",
   "metadata": {},
   "source": [
    "# reconst output data"
   ]
  },
  {
   "cell_type": "code",
   "execution_count": 16,
   "id": "d65de2e6",
   "metadata": {},
   "outputs": [
    {
     "data": {
      "text/plain": [
       "dict_keys(['meas', 'reconst_input', 'jsonfname', 'fjson_output', 'reconst_output'])"
      ]
     },
     "execution_count": 16,
     "metadata": {},
     "output_type": "execute_result"
    }
   ],
   "source": [
    "isac_data['reconst_output'].keys()"
   ]
  },
  {
   "cell_type": "code",
   "execution_count": 17,
   "id": "8fdea445",
   "metadata": {},
   "outputs": [
    {
     "data": {
      "text/plain": [
       "dict_keys(['flamevall', 'monitorl'])"
      ]
     },
     "execution_count": 17,
     "metadata": {},
     "output_type": "execute_result"
    }
   ],
   "source": [
    "isac_data['reconst_output']['meas'][0].keys()"
   ]
  },
  {
   "cell_type": "code",
   "execution_count": 18,
   "id": "420877e8",
   "metadata": {},
   "outputs": [
    {
     "data": {
      "text/plain": [
       "dict_keys(['model_engine', 'version', 'lattice_model', 'selem', 'eelem', 'flat', 'opt_method', 'iteration_no', 'comment', 'scan_type', 'monitorl', 'opt_flg', 'opt_target', 'measurement_select', 'moment_init_param', 'moment_weightl', 'moment_init_paraml', 'moment_weightl2', 'target_knobs_comment', 'target_knobs', 'monitor_knobs'])"
      ]
     },
     "execution_count": 18,
     "metadata": {},
     "output_type": "execute_result"
    }
   ],
   "source": [
    "isac_data['reconst_output']['reconst_input'].keys()"
   ]
  },
  {
   "cell_type": "code",
   "execution_count": 19,
   "id": "6c6cab6c",
   "metadata": {},
   "outputs": [
    {
     "data": {
      "text/plain": [
       "dict_keys(['posl', 'xdatal', 'xlabel', 'flat', 'pv_name', 'title', 'xcenl_meas', 'ycenl_meas', 'xcenl_sim', 'ycenl_sim', 'xrmsl_meas', 'yrmsl_meas', 'cxyl_meas', 'xrmsl_sim', 'yrmsl_sim', 'cxyl_sim', 'moment_init_param', 'moment_opt_param'])"
      ]
     },
     "execution_count": 19,
     "metadata": {},
     "output_type": "execute_result"
    }
   ],
   "source": [
    "isac_data['reconst_output']['reconst_output'].keys()"
   ]
  },
  {
   "cell_type": "code",
   "execution_count": 20,
   "id": "477249d6",
   "metadata": {},
   "outputs": [
    {
     "data": {
      "text/plain": [
       "'/files/shared/ap/ISAAC/data/20231219_010647_maruta_FS1_CSS_PM_D2225_pv_scan/summary_20231219_010647_reconst_output_3d/flame_reconst_input.lat'"
      ]
     },
     "execution_count": 20,
     "metadata": {},
     "output_type": "execute_result"
    }
   ],
   "source": [
    "isac_data['reconst_output']['reconst_output']['flat']"
   ]
  },
  {
   "cell_type": "code",
   "execution_count": 21,
   "id": "6748da73",
   "metadata": {
    "scrolled": true
   },
   "outputs": [
    {
     "data": {
      "text/plain": [
       "[0.21461250656852565,\n",
       " 2.721108852864159,\n",
       " 4.803736266085451,\n",
       " 0.08534704254162553,\n",
       " 1.5695144262528864,\n",
       " 6.25210487850898,\n",
       " -0.0038059748618568976,\n",
       " -0.37852805595134853,\n",
       " 0.1381066788259228,\n",
       " -0.18650971053339538]"
      ]
     },
     "execution_count": 21,
     "metadata": {},
     "output_type": "execute_result"
    }
   ],
   "source": [
    "isac_data['reconst_output']['reconst_output']['moment_opt_param']"
   ]
  },
  {
   "cell_type": "markdown",
   "id": "12c993ef",
   "metadata": {},
   "source": [
    "# Read PM raw data"
   ]
  },
  {
   "cell_type": "code",
   "execution_count": 22,
   "id": "df9d9fe6",
   "metadata": {},
   "outputs": [
    {
     "name": "stdout",
     "output_type": "stream",
     "text": [
      "[2, 0, 2, 0, 2, 2]\n",
      "[2, 0, 2, 0, 2, 2]\n"
     ]
    }
   ],
   "source": [
    "print(isac_data['reconst_input']['reconst_input']['measurement_select'][-1]['xrms'])\n",
    "print(isac_data['reconst_input']['reconst_input']['measurement_select'][-1]['yrms'])"
   ]
  },
  {
   "cell_type": "code",
   "execution_count": 23,
   "id": "cc76123a",
   "metadata": {},
   "outputs": [
    {
     "data": {
      "text/plain": [
       "6"
      ]
     },
     "execution_count": 23,
     "metadata": {},
     "output_type": "execute_result"
    }
   ],
   "source": [
    "scan_data = isac_data['reconst_summary']['scan_data']\n",
    "len(scan_data)"
   ]
  },
  {
   "cell_type": "code",
   "execution_count": 24,
   "id": "a20a6d9f",
   "metadata": {},
   "outputs": [
    {
     "data": {
      "text/plain": [
       "['FS1_CSS_PM_D2225_20231219_010705.dat',\n",
       " 'FS1_CSS_PM_D2225_20231219_012700.dat',\n",
       " 'FS1_CSS_PM_D2225_20231219_010956.dat',\n",
       " 'FS1_CSS_PM_D2225_20231219_011945.dat',\n",
       " 'FS1_CSS_PM_D2225_20231219_013649.dat',\n",
       " 'FS1_CSS_PM_D2225_20231219_012235.dat']"
      ]
     },
     "execution_count": 24,
     "metadata": {},
     "output_type": "execute_result"
    }
   ],
   "source": [
    "raw_data_flist = [scan_data[i]['res_monitorl'][0]['file'][3:] for i in range(len(scan_data))]\n",
    "raw_data_flist"
   ]
  },
  {
   "cell_type": "code",
   "execution_count": 25,
   "id": "a531bc25",
   "metadata": {},
   "outputs": [
    {
     "data": {
      "text/plain": [
       "['FS1_CSS_PM_D2225_20231219_010705.dat',\n",
       " 'FS1_CSS_PM_D2225_20231219_010956.dat',\n",
       " 'FS1_CSS_PM_D2225_20231219_011945.dat',\n",
       " 'FS1_CSS_PM_D2225_20231219_012235.dat',\n",
       " 'FS1_CSS_PM_D2225_20231219_012700.dat',\n",
       " 'FS1_CSS_PM_D2225_20231219_012951.dat',\n",
       " 'FS1_CSS_PM_D2225_20231219_013649.dat']"
      ]
     },
     "execution_count": 25,
     "metadata": {},
     "output_type": "execute_result"
    }
   ],
   "source": [
    "raw= pp.read_raw_data_from_directory(os.path.join(ISAAC_database_path,ISAAC_data_rel_path))\n",
    "for rel_path in ih.get_related_ISAAC_data_rel_path(ISAAC_data_rel_path,ISAAC_database_path,within_minutes=100):\n",
    "    raw.update(pp.read_raw_data_from_directory(os.path.join(ISAAC_database_path,rel_path)))\n",
    "raw_data_flist2 = list(raw.keys())\n",
    "raw_data_flist2"
   ]
  },
  {
   "cell_type": "code",
   "execution_count": 26,
   "id": "6342fbd6",
   "metadata": {},
   "outputs": [
    {
     "name": "stdout",
     "output_type": "stream",
     "text": [
      "Warning message: invalid value encountered in sqrt\n",
      "Warning type: RuntimeWarning\n",
      "Originated from: /media/sf_HWANG/My Drive/GitHub/PMpostprocess/example/../PMpostprocess/signal_processing.py, line 201\n",
      "Warning message: invalid value encountered in sqrt\n",
      "Warning type: RuntimeWarning\n",
      "Originated from: /media/sf_HWANG/My Drive/GitHub/PMpostprocess/example/../PMpostprocess/signal_processing.py, line 201\n",
      "Warning message: invalid value encountered in sqrt\n",
      "Warning type: RuntimeWarning\n",
      "Originated from: /media/sf_HWANG/My Drive/GitHub/PMpostprocess/example/../PMpostprocess/signal_processing.py, line 201\n",
      "Warning message: invalid value encountered in sqrt\n",
      "Warning type: RuntimeWarning\n",
      "Originated from: /media/sf_HWANG/My Drive/GitHub/PMpostprocess/example/../PMpostprocess/signal_processing.py, line 201\n",
      "Warning message: invalid value encountered in sqrt\n",
      "Warning type: RuntimeWarning\n",
      "Originated from: /media/sf_HWANG/My Drive/GitHub/PMpostprocess/example/../PMpostprocess/signal_processing.py, line 201\n",
      "Warning message: invalid value encountered in sqrt\n",
      "Warning type: RuntimeWarning\n",
      "Originated from: /media/sf_HWANG/My Drive/GitHub/PMpostprocess/example/../PMpostprocess/signal_processing.py, line 201\n"
     ]
    }
   ],
   "source": [
    "\n",
    "for key, value in raw.items():\n",
    "    r = 0.5 * value['wire_diam']\n",
    "    value['postprocess'] = {'denoised': [],\n",
    "                            'projected': {}}\n",
    "    rms = []\n",
    "    arr_rms = []\n",
    "    for ic, coord in enumerate(value['coord'][1:]):\n",
    "        x = value['lraw'][ic][0]\n",
    "        y = value['lraw'][ic][1]\n",
    "        with capture_warnings():\n",
    "            tmp = sp.process_profile_signal(x, y, r)\n",
    "        value['postprocess']['denoised'].append(tmp)\n",
    "        rms.append(tmp['rms_deconv'])\n",
    "        arr_rms.append(tmp['MC_stat']['arr_deconv_rms'])\n",
    "    value.pop('lraw')\n",
    "\n",
    "    with capture_warnings():\n",
    "        x,y,cxy,u,v = sp.project_L3_to_xyuv(*rms,value)\n",
    "    with capture_warnings():    \n",
    "        arr_x,arr_y,arr_cxy,arr_u,arr_v = sp.project_L3_to_xyuv(*arr_rms,value)\n",
    "    value['postprocess']['projected']['xrms']=x\n",
    "    value['postprocess']['projected']['yrms']=y\n",
    "    value['postprocess']['projected']['cxy']=cxy\n",
    "    value['postprocess']['projected']['urms']=u\n",
    "    value['postprocess']['projected']['vrms']=v\n",
    "    value['postprocess']['projected']['xrms_err']=np.std(arr_x)\n",
    "    value['postprocess']['projected']['yrms_err']=np.std(arr_y)\n",
    "    value['postprocess']['projected']['cxy_err']=np.std(arr_cxy)\n",
    "    value['postprocess']['projected']['u_err']=np.std(arr_u)\n",
    "    value['postprocess']['projected']['v_err']=np.std(arr_v)"
   ]
  },
  {
   "cell_type": "code",
   "execution_count": 27,
   "id": "0ccd91fa",
   "metadata": {},
   "outputs": [],
   "source": [
    "# f = 'FS1_CSS_PM_D2225_20240528_200148.dat'\n",
    "# plt.figure(figsize=(4,2))\n",
    "# plt.plot(raw[f]['postprocess']['denoised'][0]['smoothed'])"
   ]
  },
  {
   "cell_type": "markdown",
   "id": "b69dff3c",
   "metadata": {},
   "source": [
    "# Organize for flame reconst input"
   ]
  },
  {
   "cell_type": "code",
   "execution_count": 28,
   "id": "c885a44f",
   "metadata": {},
   "outputs": [],
   "source": [
    "from FRIB_model import flame_helper as fh\n",
    "fm_orig = fh.ModelFlame(isac_data['fmlatfile'])\n",
    "fm = fh.ModelFlame(isac_data['fmlatfile'])"
   ]
  },
  {
   "cell_type": "code",
   "execution_count": 29,
   "id": "eacf8c0a",
   "metadata": {},
   "outputs": [],
   "source": [
    "nscan = len(isac_data['reconst_input']['meas'])\n",
    "select = isac_data['reconst_input']['reconst_input']['measurement_select'][-1]\n",
    "assert nscan == len(raw_data_flist)\n",
    "\n",
    "fm_evals = {}\n",
    "fm_goals = {}\n",
    "fm_goals_postprocessed = {}\n",
    "fm_goals_err = {}\n",
    "\n",
    "for i in range(nscan):\n",
    "    for fm_elem,val_field in isac_data['reconst_input']['meas'][i]['flamevall'].items():\n",
    "        k = (fm_elem,val_field[1])\n",
    "        if k not in fm_evals:\n",
    "            fm_evals[k] = [None]*nscan\n",
    "        fm_evals[k][i] = val_field[0]\n",
    "        \n",
    "    for fm_elem,meas in isac_data['reconst_input']['meas'][i]['monitorl'].items():\n",
    "        for goal in ['xrms','yrms','cxy']:\n",
    "            k = (fm_elem,goal)\n",
    "            if k not in fm_goals:\n",
    "                fm_goals[k] = [None]*nscan\n",
    "                fm_goals_postprocessed[k] = [None]*nscan\n",
    "                fm_goals_err[k] = [None]*nscan\n",
    "            # if selected, record goal\n",
    "            if select[goal][i]: \n",
    "                fm_goals[k][i] = meas[goal]\n",
    "                fm_goals_postprocessed[k][i] = raw[raw_data_flist[i]]['postprocess']['projected'][goal]\n",
    "                fm_goals_err[k][i] = raw[raw_data_flist[i]]['postprocess']['projected'][goal+'_err']\n",
    "                \n",
    "fm_evals = fh.make_FLAME_evals_or_goals(fm,df=pd.DataFrame(fm_evals))\n",
    "fm_goals = fh.make_FLAME_evals_or_goals(fm,df=pd.DataFrame(fm_goals))\n",
    "fm_goals_postprocessed = fh.make_FLAME_evals_or_goals(fm,df=pd.DataFrame(fm_goals_postprocessed))\n",
    "\n",
    "fm_goals_err = pd.DataFrame(fm_goals_err)\n",
    "goal_std = fm_goals_postprocessed['df'].std()\n",
    "goal_err_mean = fm_goals_err.mean()\n",
    "\n",
    "scaler = np.nanmean(goal_std/(goal_err_mean + 1e-2*goal_std))\n",
    "fm_goals_postprocessed['err'] = fm_goals_err\n",
    "fm_goals_postprocessed['normalization_factor'] = fm_goals_err*scaler"
   ]
  },
  {
   "cell_type": "code",
   "execution_count": 30,
   "id": "64e82064",
   "metadata": {},
   "outputs": [
    {
     "data": {
      "text/plain": [
       "{'info': {'FS1_CSS:QH_D2194': {'index': 100},\n",
       "  'FS1_CSS:QV_D2202': {'index': 104}},\n",
       " 'df':   FS1_CSS:QH_D2194 FS1_CSS:QV_D2202\n",
       "                 B2               B2\n",
       " 0          5.79490        -18.89210\n",
       " 1         10.76299        -18.89305\n",
       " 2          9.11068        -18.89210\n",
       " 3         12.42847        -18.89210\n",
       " 4         14.80169        -18.89305\n",
       " 5         15.75006        -18.89305}"
      ]
     },
     "execution_count": 30,
     "metadata": {},
     "output_type": "execute_result"
    }
   ],
   "source": [
    "fm_evals"
   ]
  },
  {
   "cell_type": "code",
   "execution_count": 31,
   "id": "225b2e80",
   "metadata": {},
   "outputs": [
    {
     "data": {
      "text/html": [
       "<div>\n",
       "<style scoped>\n",
       "    .dataframe tbody tr th:only-of-type {\n",
       "        vertical-align: middle;\n",
       "    }\n",
       "\n",
       "    .dataframe tbody tr th {\n",
       "        vertical-align: top;\n",
       "    }\n",
       "\n",
       "    .dataframe thead tr th {\n",
       "        text-align: left;\n",
       "    }\n",
       "</style>\n",
       "<table border=\"1\" class=\"dataframe\">\n",
       "  <thead>\n",
       "    <tr>\n",
       "      <th></th>\n",
       "      <th colspan=\"3\" halign=\"left\">FS1_CSS:PM_D2225</th>\n",
       "    </tr>\n",
       "    <tr>\n",
       "      <th></th>\n",
       "      <th>xrms</th>\n",
       "      <th>yrms</th>\n",
       "      <th>cxy</th>\n",
       "    </tr>\n",
       "  </thead>\n",
       "  <tbody>\n",
       "    <tr>\n",
       "      <th>0</th>\n",
       "      <td>5.84524</td>\n",
       "      <td>3.22642</td>\n",
       "      <td>-0.41015</td>\n",
       "    </tr>\n",
       "    <tr>\n",
       "      <th>1</th>\n",
       "      <td>NaN</td>\n",
       "      <td>NaN</td>\n",
       "      <td>-0.27948</td>\n",
       "    </tr>\n",
       "    <tr>\n",
       "      <th>2</th>\n",
       "      <td>3.37396</td>\n",
       "      <td>1.43202</td>\n",
       "      <td>NaN</td>\n",
       "    </tr>\n",
       "    <tr>\n",
       "      <th>3</th>\n",
       "      <td>NaN</td>\n",
       "      <td>NaN</td>\n",
       "      <td>NaN</td>\n",
       "    </tr>\n",
       "    <tr>\n",
       "      <th>4</th>\n",
       "      <td>0.59793</td>\n",
       "      <td>0.84524</td>\n",
       "      <td>NaN</td>\n",
       "    </tr>\n",
       "    <tr>\n",
       "      <th>5</th>\n",
       "      <td>1.06284</td>\n",
       "      <td>1.39575</td>\n",
       "      <td>0.83505</td>\n",
       "    </tr>\n",
       "  </tbody>\n",
       "</table>\n",
       "</div>"
      ],
      "text/plain": [
       "  FS1_CSS:PM_D2225                  \n",
       "              xrms     yrms      cxy\n",
       "0          5.84524  3.22642 -0.41015\n",
       "1              NaN      NaN -0.27948\n",
       "2          3.37396  1.43202      NaN\n",
       "3              NaN      NaN      NaN\n",
       "4          0.59793  0.84524      NaN\n",
       "5          1.06284  1.39575  0.83505"
      ]
     },
     "execution_count": 31,
     "metadata": {},
     "output_type": "execute_result"
    }
   ],
   "source": [
    "fm_goals['df']"
   ]
  },
  {
   "cell_type": "code",
   "execution_count": 32,
   "id": "e3a06cc7",
   "metadata": {},
   "outputs": [
    {
     "data": {
      "text/html": [
       "<div>\n",
       "<style scoped>\n",
       "    .dataframe tbody tr th:only-of-type {\n",
       "        vertical-align: middle;\n",
       "    }\n",
       "\n",
       "    .dataframe tbody tr th {\n",
       "        vertical-align: top;\n",
       "    }\n",
       "\n",
       "    .dataframe thead tr th {\n",
       "        text-align: left;\n",
       "    }\n",
       "</style>\n",
       "<table border=\"1\" class=\"dataframe\">\n",
       "  <thead>\n",
       "    <tr>\n",
       "      <th></th>\n",
       "      <th colspan=\"3\" halign=\"left\">FS1_CSS:PM_D2225</th>\n",
       "    </tr>\n",
       "    <tr>\n",
       "      <th></th>\n",
       "      <th>xrms</th>\n",
       "      <th>yrms</th>\n",
       "      <th>cxy</th>\n",
       "    </tr>\n",
       "  </thead>\n",
       "  <tbody>\n",
       "    <tr>\n",
       "      <th>0</th>\n",
       "      <td>5.844476</td>\n",
       "      <td>3.245183</td>\n",
       "      <td>-0.415817</td>\n",
       "    </tr>\n",
       "    <tr>\n",
       "      <th>1</th>\n",
       "      <td>NaN</td>\n",
       "      <td>NaN</td>\n",
       "      <td>-0.547172</td>\n",
       "    </tr>\n",
       "    <tr>\n",
       "      <th>2</th>\n",
       "      <td>3.436656</td>\n",
       "      <td>1.436222</td>\n",
       "      <td>-0.999000</td>\n",
       "    </tr>\n",
       "    <tr>\n",
       "      <th>3</th>\n",
       "      <td>NaN</td>\n",
       "      <td>NaN</td>\n",
       "      <td>NaN</td>\n",
       "    </tr>\n",
       "    <tr>\n",
       "      <th>4</th>\n",
       "      <td>0.471386</td>\n",
       "      <td>0.943101</td>\n",
       "      <td>0.999000</td>\n",
       "    </tr>\n",
       "    <tr>\n",
       "      <th>5</th>\n",
       "      <td>1.035305</td>\n",
       "      <td>1.473927</td>\n",
       "      <td>0.746214</td>\n",
       "    </tr>\n",
       "  </tbody>\n",
       "</table>\n",
       "</div>"
      ],
      "text/plain": [
       "  FS1_CSS:PM_D2225                    \n",
       "              xrms      yrms       cxy\n",
       "0         5.844476  3.245183 -0.415817\n",
       "1              NaN       NaN -0.547172\n",
       "2         3.436656  1.436222 -0.999000\n",
       "3              NaN       NaN       NaN\n",
       "4         0.471386  0.943101  0.999000\n",
       "5         1.035305  1.473927  0.746214"
      ]
     },
     "execution_count": 32,
     "metadata": {},
     "output_type": "execute_result"
    }
   ],
   "source": [
    "fm_goals_postprocessed['df']"
   ]
  },
  {
   "cell_type": "code",
   "execution_count": 33,
   "id": "bf29f98a",
   "metadata": {},
   "outputs": [
    {
     "data": {
      "text/html": [
       "<div>\n",
       "<style scoped>\n",
       "    .dataframe tbody tr th:only-of-type {\n",
       "        vertical-align: middle;\n",
       "    }\n",
       "\n",
       "    .dataframe tbody tr th {\n",
       "        vertical-align: top;\n",
       "    }\n",
       "\n",
       "    .dataframe thead tr th {\n",
       "        text-align: left;\n",
       "    }\n",
       "</style>\n",
       "<table border=\"1\" class=\"dataframe\">\n",
       "  <thead>\n",
       "    <tr>\n",
       "      <th></th>\n",
       "      <th colspan=\"3\" halign=\"left\">FS1_CSS:PM_D2225</th>\n",
       "    </tr>\n",
       "    <tr>\n",
       "      <th></th>\n",
       "      <th>xrms</th>\n",
       "      <th>yrms</th>\n",
       "      <th>cxy</th>\n",
       "    </tr>\n",
       "  </thead>\n",
       "  <tbody>\n",
       "    <tr>\n",
       "      <th>0</th>\n",
       "      <td>0.031652</td>\n",
       "      <td>0.020925</td>\n",
       "      <td>1.329134e-02</td>\n",
       "    </tr>\n",
       "    <tr>\n",
       "      <th>1</th>\n",
       "      <td>NaN</td>\n",
       "      <td>NaN</td>\n",
       "      <td>2.412499e-02</td>\n",
       "    </tr>\n",
       "    <tr>\n",
       "      <th>2</th>\n",
       "      <td>0.012574</td>\n",
       "      <td>0.009683</td>\n",
       "      <td>1.110223e-16</td>\n",
       "    </tr>\n",
       "    <tr>\n",
       "      <th>3</th>\n",
       "      <td>NaN</td>\n",
       "      <td>NaN</td>\n",
       "      <td>NaN</td>\n",
       "    </tr>\n",
       "    <tr>\n",
       "      <th>4</th>\n",
       "      <td>0.009603</td>\n",
       "      <td>0.030241</td>\n",
       "      <td>NaN</td>\n",
       "    </tr>\n",
       "    <tr>\n",
       "      <th>5</th>\n",
       "      <td>0.012093</td>\n",
       "      <td>0.019615</td>\n",
       "      <td>3.668430e-02</td>\n",
       "    </tr>\n",
       "  </tbody>\n",
       "</table>\n",
       "</div>"
      ],
      "text/plain": [
       "  FS1_CSS:PM_D2225                        \n",
       "              xrms      yrms           cxy\n",
       "0         0.031652  0.020925  1.329134e-02\n",
       "1              NaN       NaN  2.412499e-02\n",
       "2         0.012574  0.009683  1.110223e-16\n",
       "3              NaN       NaN           NaN\n",
       "4         0.009603  0.030241           NaN\n",
       "5         0.012093  0.019615  3.668430e-02"
      ]
     },
     "execution_count": 33,
     "metadata": {},
     "output_type": "execute_result"
    }
   ],
   "source": [
    "fm_goals_err"
   ]
  },
  {
   "cell_type": "markdown",
   "id": "0f5b3d36",
   "metadata": {},
   "source": [
    "### compare fittings"
   ]
  },
  {
   "cell_type": "code",
   "execution_count": 34,
   "id": "a1c1d0cc",
   "metadata": {},
   "outputs": [
    {
     "name": "stdout",
     "output_type": "stream",
     "text": [
      "0-th trial, current_loss: 0.192, best_loss: 0.192\n",
      "1-th trial, current_loss: 0.192, best_loss: 0.192\n",
      "2-th trial, current_loss: 0.292, best_loss: 0.192\n",
      "3-th trial, current_loss: 0.567, best_loss: 0.192\n",
      "4-th trial, current_loss: 0.262, best_loss: 0.192\n"
     ]
    },
    {
     "data": {
      "text/plain": [
       "(array([-0.40701245, 12.95053029,  0.0900086 ]),\n",
       " 1.280644931802985,\n",
       " array([0.96534406, 3.54496669, 0.5449668 ]),\n",
       " 1.7133241256063994)"
      ]
     },
     "execution_count": 34,
     "metadata": {},
     "output_type": "execute_result"
    }
   ],
   "source": [
    "fh.fit_moment1(fm,fm_evals,fm_goals_postprocessed,stop_criteria=0.1)\n",
    "fm.bmstate.get_twiss('x'), fm.bmstate.xemittance, fm.bmstate.get_twiss('y'), fm.bmstate.yemittance"
   ]
  },
  {
   "cell_type": "code",
   "execution_count": 35,
   "id": "c7b6c1b0",
   "metadata": {},
   "outputs": [
    {
     "name": "stdout",
     "output_type": "stream",
     "text": [
      "0-th trial, current_loss: 0.021, best_loss: 0.021\n",
      "2-th trial, current_loss: 0.0205, best_loss: 0.0205\n"
     ]
    },
    {
     "data": {
      "text/plain": [
       "(array([-0.72752939, 13.94254953,  0.10968575]),\n",
       " 0.2635546253020422,\n",
       " array([1.3115474 , 0.94823549, 2.8686509 ]),\n",
       " 0.048787186621729255)"
      ]
     },
     "execution_count": 35,
     "metadata": {},
     "output_type": "execute_result"
    }
   ],
   "source": [
    "# fm_goals['normalization_factor'] = fm_goals_postprocessed['normalization_factor']\n",
    "fh.fit_moment1(fm,fm_evals,fm_goals,stop_criteria=0.1)\n",
    "fm.bmstate.get_twiss('x'), fm.bmstate.xnemittance, fm.bmstate.get_twiss('y'), fm.bmstate.ynemittance"
   ]
  },
  {
   "cell_type": "code",
   "execution_count": 36,
   "id": "bf962acb",
   "metadata": {},
   "outputs": [
    {
     "data": {
      "text/plain": [
       "(array([-0.43126043, 11.65162811,  0.10178711]),\n",
       " 0.24018614529725893,\n",
       " array([0.95776394, 3.41514823, 0.56141392]),\n",
       " 0.31260437450834555)"
      ]
     },
     "execution_count": 36,
     "metadata": {},
     "output_type": "execute_result"
    }
   ],
   "source": [
    "fm_orig.bmstate.get_twiss('x'), fm_orig.bmstate.xnemittance, fm_orig.bmstate.get_twiss('y'), fm_orig.bmstate.ynemittance"
   ]
  },
  {
   "cell_type": "code",
   "execution_count": null,
   "id": "8e9df7f1",
   "metadata": {},
   "outputs": [],
   "source": []
  },
  {
   "cell_type": "code",
   "execution_count": null,
   "id": "fadd4c15",
   "metadata": {},
   "outputs": [],
   "source": []
  },
  {
   "cell_type": "code",
   "execution_count": null,
   "id": "685a9a4f",
   "metadata": {},
   "outputs": [],
   "source": []
  },
  {
   "cell_type": "code",
   "execution_count": null,
   "id": "649d2208",
   "metadata": {},
   "outputs": [],
   "source": []
  }
 ],
 "metadata": {
  "kernelspec": {
   "display_name": "Python 3 (ipykernel)",
   "language": "python",
   "name": "python3"
  },
  "language_info": {
   "codemirror_mode": {
    "name": "ipython",
    "version": 3
   },
   "file_extension": ".py",
   "mimetype": "text/x-python",
   "name": "python",
   "nbconvert_exporter": "python",
   "pygments_lexer": "ipython3",
   "version": "3.11.2"
  }
 },
 "nbformat": 4,
 "nbformat_minor": 5
}
