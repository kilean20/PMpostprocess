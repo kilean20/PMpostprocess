{
 "cells": [
  {
   "cell_type": "code",
   "execution_count": 1,
   "id": "79195d1a-e20f-40e3-b5a2-5d805a42d03d",
   "metadata": {},
   "outputs": [
    {
     "name": "stdout",
     "output_type": "stream",
     "text": [
      "profilemonitor_plot_util start\n"
     ]
    }
   ],
   "source": [
    "import sys\n",
    "import math\n",
    "import numpy as np\n",
    "import pandas as pd\n",
    "import matplotlib.pyplot as plt\n",
    "import logging\n",
    "logging.basicConfig(\n",
    "    level=logging.INFO,  # Set the minimum logging level to INFO\n",
    "    format='%(asctime)s - %(name)s - %(levelname)s - %(message)s'\n",
    ")\n",
    "\n",
    "sys.path.append('../')\n",
    "from PMpostprocess import PMpostprocess as pp\n",
    "from PMpostprocess import signal_processing as sp"
   ]
  },
  {
   "cell_type": "code",
   "execution_count": 2,
   "id": "fbc6ebfd",
   "metadata": {},
   "outputs": [
    {
     "name": "stdout",
     "output_type": "stream",
     "text": [
      "FRIB_model version: 1.0.0. updated on 2024-03-05\n"
     ]
    }
   ],
   "source": [
    "sys.path.append('../../')\n",
    "from FRIB_model import ISAAC_helper as ih"
   ]
  },
  {
   "cell_type": "code",
   "execution_count": 3,
   "id": "79252dd6",
   "metadata": {},
   "outputs": [],
   "source": [
    "import warnings\n",
    "from contextlib import contextmanager\n",
    "\n",
    "@contextmanager\n",
    "def capture_warnings():\n",
    "    \"\"\"\n",
    "    A context manager to capture and print warnings within a block of code.\n",
    "    \"\"\"\n",
    "    with warnings.catch_warnings(record=True) as caught_warnings:\n",
    "        warnings.simplefilter(\"always\")  # Always capture warnings\n",
    "        yield  # Allow code execution within the context\n",
    "        for w in caught_warnings:\n",
    "            print(f\"Warning message: {w.message}\")\n",
    "            print(f\"Warning type: {w.category.__name__}\")\n",
    "            print(f\"Originated from: {w.filename}, line {w.lineno}\")"
   ]
  },
  {
   "cell_type": "code",
   "execution_count": 4,
   "id": "10313ef4",
   "metadata": {},
   "outputs": [],
   "source": [
    "import os\n",
    "ISAAC_database_path = \"/home/devuser/sf_HWANG/Workspace/BPM4pickup/ISAAC_data_PMver0\"\n",
    "ISAAC_data_rel_path = \"20231218_220322_hwang_FS1_CSS_PM_D2225_pv_scan\"\n",
    "#\"20240528_200129_hwang_FS1_CSS_PM_D2225_pv_scan\"\n",
    "isac_data = ih.get_most_recent_reconst_data(ISAAC_data_rel_path,ISAAC_database_path)"
   ]
  },
  {
   "cell_type": "code",
   "execution_count": 5,
   "id": "7fa8e66f",
   "metadata": {},
   "outputs": [
    {
     "data": {
      "text/plain": [
       "dict_keys(['reconst_summary', 'reconst_input', 'reconst_output', 'fmlatfile'])"
      ]
     },
     "execution_count": 5,
     "metadata": {},
     "output_type": "execute_result"
    }
   ],
   "source": [
    "isac_data.keys()"
   ]
  },
  {
   "cell_type": "markdown",
   "id": "ffafe4a3",
   "metadata": {},
   "source": [
    "# summary data"
   ]
  },
  {
   "cell_type": "code",
   "execution_count": 6,
   "id": "3f9877e3",
   "metadata": {},
   "outputs": [
    {
     "data": {
      "text/plain": [
       "dict_keys(['comment', 'time', 'jsonfname', 'fname', 'pvinfo', 'scan_type', 'monitorl', 'putPVnamel', 'getPVnamel', 'initputPVvall', 'initgetPVvall', 'scan_data'])"
      ]
     },
     "execution_count": 6,
     "metadata": {},
     "output_type": "execute_result"
    }
   ],
   "source": [
    "isac_data['reconst_summary'].keys()"
   ]
  },
  {
   "cell_type": "code",
   "execution_count": 7,
   "id": "6fc09727",
   "metadata": {},
   "outputs": [
    {
     "data": {
      "text/plain": [
       "dict_keys(['putPVvall', 'getPVvall', 'res_monitorl'])"
      ]
     },
     "execution_count": 7,
     "metadata": {},
     "output_type": "execute_result"
    }
   ],
   "source": [
    "isac_data['reconst_summary']['scan_data'][0].keys()"
   ]
  },
  {
   "cell_type": "code",
   "execution_count": 8,
   "id": "b2ad407d",
   "metadata": {},
   "outputs": [
    {
     "data": {
      "text/plain": [
       "{'FS1_CSS:PSQ_D2194:I_RD': 48.984, 'FS1_CSS:PSQ_D2202:I_RD': 159.698}"
      ]
     },
     "execution_count": 8,
     "metadata": {},
     "output_type": "execute_result"
    }
   ],
   "source": [
    "isac_data['reconst_summary']['scan_data'][0]['getPVvall']"
   ]
  },
  {
   "cell_type": "code",
   "execution_count": 9,
   "id": "bbd60454",
   "metadata": {},
   "outputs": [
    {
     "data": {
      "text/plain": [
       "('FS1_CSS:PM_D2225',\n",
       " './/FS1_CSS_PM_D2225_20231218_220352.dat',\n",
       " 'Suxy',\n",
       " 4.525890538512897)"
      ]
     },
     "execution_count": 9,
     "metadata": {},
     "output_type": "execute_result"
    }
   ],
   "source": [
    "tmp = isac_data['reconst_summary']['scan_data'][0]['res_monitorl'][0]\n",
    "tmp['name'], tmp['file'], tmp['coord'], tmp['xrms']"
   ]
  },
  {
   "cell_type": "markdown",
   "id": "86b3b0dc",
   "metadata": {},
   "source": [
    "# reconst input data"
   ]
  },
  {
   "cell_type": "code",
   "execution_count": 10,
   "id": "0794ee1e",
   "metadata": {},
   "outputs": [
    {
     "data": {
      "text/plain": [
       "dict_keys(['meas', 'reconst_input', 'jsonfname'])"
      ]
     },
     "execution_count": 10,
     "metadata": {},
     "output_type": "execute_result"
    }
   ],
   "source": [
    "isac_data['reconst_input'].keys()"
   ]
  },
  {
   "cell_type": "code",
   "execution_count": 11,
   "id": "bd5e4b44",
   "metadata": {},
   "outputs": [
    {
     "data": {
      "text/plain": [
       "dict_keys(['flamevall', 'monitorl'])"
      ]
     },
     "execution_count": 11,
     "metadata": {},
     "output_type": "execute_result"
    }
   ],
   "source": [
    "isac_data['reconst_input']['meas'][0].keys()"
   ]
  },
  {
   "cell_type": "code",
   "execution_count": 12,
   "id": "6b3f4927",
   "metadata": {},
   "outputs": [
    {
     "data": {
      "text/plain": [
       "dict_keys(['model_engine', 'version', 'lattice_model', 'selem', 'eelem', 'flat', 'opt_method', 'iteration_no', 'comment', 'scan_type', 'monitorl', 'opt_flg', 'opt_target', 'measurement_select', 'moment_init_param', 'moment_weightl', 'moment_init_paraml', 'moment_weightl2', 'target_knobs_comment', 'target_knobs', 'monitor_knobs'])"
      ]
     },
     "execution_count": 12,
     "metadata": {},
     "output_type": "execute_result"
    }
   ],
   "source": [
    "isac_data['reconst_input']['reconst_input'].keys()"
   ]
  },
  {
   "cell_type": "code",
   "execution_count": 13,
   "id": "f5b32c53",
   "metadata": {},
   "outputs": [
    {
     "data": {
      "text/plain": [
       "['moment1', 'moment1']"
      ]
     },
     "execution_count": 13,
     "metadata": {},
     "output_type": "execute_result"
    }
   ],
   "source": [
    "assert isac_data['reconst_input']['reconst_input']['opt_target'][-1] == 'moment1'\n",
    "isac_data['reconst_input']['reconst_input']['opt_target']"
   ]
  },
  {
   "cell_type": "code",
   "execution_count": 14,
   "id": "63a47c8c",
   "metadata": {},
   "outputs": [
    {
     "data": {
      "text/plain": [
       "[2, 2, 2, 2, 2]"
      ]
     },
     "execution_count": 14,
     "metadata": {},
     "output_type": "execute_result"
    }
   ],
   "source": [
    "isac_data['reconst_input']['reconst_input']['measurement_select'][-1]['yrms']"
   ]
  },
  {
   "cell_type": "code",
   "execution_count": 15,
   "id": "c4f08294",
   "metadata": {},
   "outputs": [
    {
     "data": {
      "text/plain": [
       "\"((ename,[min_val, max_val, initial_val, field, unit]),('FE_LEBT:QHE_D0844',[-10, 10, 0, 'dy','mm']))\""
      ]
     },
     "execution_count": 15,
     "metadata": {},
     "output_type": "execute_result"
    }
   ],
   "source": [
    "isac_data['reconst_input']['reconst_input']['target_knobs_comment']"
   ]
  },
  {
   "cell_type": "markdown",
   "id": "454de3d9",
   "metadata": {},
   "source": [
    "# reconst output data"
   ]
  },
  {
   "cell_type": "code",
   "execution_count": 16,
   "id": "d65de2e6",
   "metadata": {},
   "outputs": [
    {
     "data": {
      "text/plain": [
       "dict_keys(['meas', 'reconst_input', 'jsonfname', 'fjson_output', 'reconst_output'])"
      ]
     },
     "execution_count": 16,
     "metadata": {},
     "output_type": "execute_result"
    }
   ],
   "source": [
    "isac_data['reconst_output'].keys()"
   ]
  },
  {
   "cell_type": "code",
   "execution_count": 17,
   "id": "8fdea445",
   "metadata": {},
   "outputs": [
    {
     "data": {
      "text/plain": [
       "dict_keys(['flamevall', 'monitorl'])"
      ]
     },
     "execution_count": 17,
     "metadata": {},
     "output_type": "execute_result"
    }
   ],
   "source": [
    "isac_data['reconst_output']['meas'][0].keys()"
   ]
  },
  {
   "cell_type": "code",
   "execution_count": 18,
   "id": "420877e8",
   "metadata": {},
   "outputs": [
    {
     "data": {
      "text/plain": [
       "dict_keys(['model_engine', 'version', 'lattice_model', 'selem', 'eelem', 'flat', 'opt_method', 'iteration_no', 'comment', 'scan_type', 'monitorl', 'opt_flg', 'opt_target', 'measurement_select', 'moment_init_param', 'moment_weightl', 'moment_init_paraml', 'moment_weightl2', 'target_knobs_comment', 'target_knobs', 'monitor_knobs'])"
      ]
     },
     "execution_count": 18,
     "metadata": {},
     "output_type": "execute_result"
    }
   ],
   "source": [
    "isac_data['reconst_output']['reconst_input'].keys()"
   ]
  },
  {
   "cell_type": "code",
   "execution_count": 19,
   "id": "6c6cab6c",
   "metadata": {},
   "outputs": [
    {
     "data": {
      "text/plain": [
       "dict_keys(['posl', 'xdatal', 'xlabel', 'flat', 'pv_name', 'title', 'xcenl_meas', 'ycenl_meas', 'xcenl_sim', 'ycenl_sim', 'xrmsl_meas', 'yrmsl_meas', 'cxyl_meas', 'xrmsl_sim', 'yrmsl_sim', 'cxyl_sim', 'moment_init_param', 'moment_opt_param'])"
      ]
     },
     "execution_count": 19,
     "metadata": {},
     "output_type": "execute_result"
    }
   ],
   "source": [
    "isac_data['reconst_output']['reconst_output'].keys()"
   ]
  },
  {
   "cell_type": "code",
   "execution_count": 20,
   "id": "477249d6",
   "metadata": {},
   "outputs": [
    {
     "data": {
      "text/plain": [
       "'/files/shared/ap/ISAAC/data/20231218_220322_hwang_FS1_CSS_PM_D2225_pv_scan/summary_20231218_220322_reconst_output_3d/flame_reconst_input.lat'"
      ]
     },
     "execution_count": 20,
     "metadata": {},
     "output_type": "execute_result"
    }
   ],
   "source": [
    "isac_data['reconst_output']['reconst_output']['flat']"
   ]
  },
  {
   "cell_type": "code",
   "execution_count": 21,
   "id": "6748da73",
   "metadata": {
    "scrolled": true
   },
   "outputs": [
    {
     "data": {
      "text/plain": [
       "[0.17117654097330992,\n",
       " 2.203861947563044,\n",
       " 3.1990968652286824,\n",
       " 0.11907516146327302,\n",
       " 2.2157098838910168,\n",
       " 3.2438243940449674,\n",
       " 0.003106480094957075,\n",
       " -0.23922327172320457,\n",
       " 0.2509095201406102,\n",
       " 0.03871114768800124]"
      ]
     },
     "execution_count": 21,
     "metadata": {},
     "output_type": "execute_result"
    }
   ],
   "source": [
    "isac_data['reconst_output']['reconst_output']['moment_opt_param']"
   ]
  },
  {
   "cell_type": "markdown",
   "id": "12c993ef",
   "metadata": {},
   "source": [
    "# Read PM raw data"
   ]
  },
  {
   "cell_type": "code",
   "execution_count": 22,
   "id": "df9d9fe6",
   "metadata": {},
   "outputs": [
    {
     "name": "stdout",
     "output_type": "stream",
     "text": [
      "[2, 2, 2, 2, 2]\n",
      "[2, 2, 2, 2, 2]\n"
     ]
    }
   ],
   "source": [
    "print(isac_data['reconst_input']['reconst_input']['measurement_select'][-1]['xrms'])\n",
    "print(isac_data['reconst_input']['reconst_input']['measurement_select'][-1]['yrms'])"
   ]
  },
  {
   "cell_type": "code",
   "execution_count": 23,
   "id": "cc76123a",
   "metadata": {},
   "outputs": [
    {
     "data": {
      "text/plain": [
       "5"
      ]
     },
     "execution_count": 23,
     "metadata": {},
     "output_type": "execute_result"
    }
   ],
   "source": [
    "scan_data = isac_data['reconst_summary']['scan_data']\n",
    "len(scan_data)"
   ]
  },
  {
   "cell_type": "code",
   "execution_count": 24,
   "id": "a20a6d9f",
   "metadata": {},
   "outputs": [
    {
     "data": {
      "text/plain": [
       "['FS1_CSS_PM_D2225_20231218_220352.dat',\n",
       " 'FS1_CSS_PM_D2225_20231218_220651.dat',\n",
       " 'FS1_CSS_PM_D2225_20231218_220952.dat',\n",
       " 'FS1_CSS_PM_D2225_20231218_221252.dat',\n",
       " 'FS1_CSS_PM_D2225_20231218_222427.dat']"
      ]
     },
     "execution_count": 24,
     "metadata": {},
     "output_type": "execute_result"
    }
   ],
   "source": [
    "raw_data_flist = [scan_data[i]['res_monitorl'][0]['file'][3:] for i in range(len(scan_data))]\n",
    "raw_data_flist"
   ]
  },
  {
   "cell_type": "code",
   "execution_count": 25,
   "id": "a531bc25",
   "metadata": {},
   "outputs": [
    {
     "data": {
      "text/plain": [
       "['FS1_CSS_PM_D2225_20231218_220352.dat',\n",
       " 'FS1_CSS_PM_D2225_20231218_220651.dat',\n",
       " 'FS1_CSS_PM_D2225_20231218_220952.dat',\n",
       " 'FS1_CSS_PM_D2225_20231218_221252.dat',\n",
       " 'FS1_CSS_PM_D2225_20231218_222427.dat']"
      ]
     },
     "execution_count": 25,
     "metadata": {},
     "output_type": "execute_result"
    }
   ],
   "source": [
    "raw= pp.read_raw_data_from_directory(os.path.join(ISAAC_database_path,ISAAC_data_rel_path))\n",
    "for rel_path in ih.get_related_ISAAC_data_rel_path(ISAAC_data_rel_path,ISAAC_database_path,within_minutes=100):\n",
    "    raw.update(pp.read_raw_data_from_directory(os.path.join(ISAAC_database_path,rel_path)))\n",
    "raw_data_flist2 = list(raw.keys())\n",
    "raw_data_flist2"
   ]
  },
  {
   "cell_type": "code",
   "execution_count": 26,
   "id": "6342fbd6",
   "metadata": {},
   "outputs": [],
   "source": [
    "for key, value in raw.items():\n",
    "    r = 0.5 * value['wire_diam']\n",
    "    value['postprocess'] = {'denoised': [],\n",
    "                            'projected': {}}\n",
    "    rms = []\n",
    "    arr_rms = []\n",
    "    for ic, coord in enumerate(value['coord'][1:]):\n",
    "        x = value['lraw'][ic][0]\n",
    "        y = value['lraw'][ic][1]\n",
    "        tmp = sp.process_profile_signal(x, y, r)\n",
    "        value['postprocess']['denoised'].append(tmp)\n",
    "        rms.append(tmp['rms_deconv'])\n",
    "        arr_rms.append(tmp['MC_stat']['arr_deconv_rms'])\n",
    "    value.pop('lraw')\n",
    "    \n",
    "    x,y,cxy,u,v = sp.project_L3_to_xyuv(*rms,value)\n",
    "    arr_x,arr_y,arr_cxy,arr_u,arr_v = sp.project_L3_to_xyuv(*arr_rms,value)\n",
    "    value['postprocess']['projected']['xrms']=x\n",
    "    value['postprocess']['projected']['yrms']=y\n",
    "    value['postprocess']['projected']['cxy']=cxy\n",
    "    value['postprocess']['projected']['urms']=u\n",
    "    value['postprocess']['projected']['vrms']=v\n",
    "    value['postprocess']['projected']['xrms_err']=np.std(arr_x)\n",
    "    value['postprocess']['projected']['yrms_err']=np.std(arr_y)\n",
    "    value['postprocess']['projected']['cxy_err']=np.std(arr_cxy)\n",
    "    value['postprocess']['projected']['u_err']=np.std(arr_u)\n",
    "    value['postprocess']['projected']['v_err']=np.std(arr_v)"
   ]
  },
  {
   "cell_type": "code",
   "execution_count": 27,
   "id": "0ccd91fa",
   "metadata": {},
   "outputs": [],
   "source": [
    "# f = 'FS1_CSS_PM_D2225_20240528_200148.dat'\n",
    "# plt.figure(figsize=(4,2))\n",
    "# plt.plot(raw[f]['postprocess']['denoised'][0]['smoothed'])"
   ]
  },
  {
   "cell_type": "markdown",
   "id": "b69dff3c",
   "metadata": {},
   "source": [
    "# Organize for flame reconst input"
   ]
  },
  {
   "cell_type": "code",
   "execution_count": 28,
   "id": "c885a44f",
   "metadata": {},
   "outputs": [],
   "source": [
    "from FRIB_model import flame_helper as fh\n",
    "fm_orig = fh.ModelFlame(isac_data['fmlatfile'])\n",
    "fm = fh.ModelFlame(isac_data['fmlatfile'])"
   ]
  },
  {
   "cell_type": "code",
   "execution_count": 29,
   "id": "eacf8c0a",
   "metadata": {},
   "outputs": [],
   "source": [
    "nscan = len(isac_data['reconst_input']['meas'])\n",
    "select = isac_data['reconst_input']['reconst_input']['measurement_select'][-1]\n",
    "assert nscan == len(raw_data_flist)\n",
    "\n",
    "fm_evals = {}\n",
    "fm_goals = {}\n",
    "fm_goals_postprocessed = {}\n",
    "fm_goals_err = {}\n",
    "\n",
    "for i in range(nscan):\n",
    "    for fm_elem,val_field in isac_data['reconst_input']['meas'][i]['flamevall'].items():\n",
    "        k = (fm_elem,val_field[1])\n",
    "        if k not in fm_evals:\n",
    "            fm_evals[k] = [None]*nscan\n",
    "        fm_evals[k][i] = val_field[0]\n",
    "        \n",
    "    for fm_elem,meas in isac_data['reconst_input']['meas'][i]['monitorl'].items():\n",
    "        for goal in ['xrms','yrms','cxy']:\n",
    "            k = (fm_elem,goal)\n",
    "            if k not in fm_goals:\n",
    "                fm_goals[k] = [None]*nscan\n",
    "                fm_goals_postprocessed[k] = [None]*nscan\n",
    "                fm_goals_err[k] = [None]*nscan\n",
    "            # if selected, record goal\n",
    "            if select[goal][i]: \n",
    "                fm_goals[k][i] = meas[goal]\n",
    "                fm_goals_postprocessed[k][i] = raw[raw_data_flist[i]]['postprocess']['projected'][goal]\n",
    "                fm_goals_err[k][i] = raw[raw_data_flist[i]]['postprocess']['projected'][goal+'_err']\n",
    "                \n",
    "fm_evals = fh.make_FLAME_evals_or_goals(fm,df=pd.DataFrame(fm_evals))\n",
    "fm_goals = fh.make_FLAME_evals_or_goals(fm,df=pd.DataFrame(fm_goals))\n",
    "fm_goals_postprocessed = fh.make_FLAME_evals_or_goals(fm,df=pd.DataFrame(fm_goals_postprocessed))\n",
    "\n",
    "fm_goals_err = pd.DataFrame(fm_goals_err)\n",
    "scaler = np.mean(fm_goals_postprocessed['df'].std()/fm_goals_err.mean())\n",
    "# fm_goals['normalization_factor'] = fm_goals_err\n",
    "fm_goals_postprocessed['normalization_factor'] = fm_goals_err*scaler  # make loss roughly order of 1"
   ]
  },
  {
   "cell_type": "code",
   "execution_count": 30,
   "id": "64e82064",
   "metadata": {},
   "outputs": [
    {
     "data": {
      "text/plain": [
       "{'info': {'FS1_CSS:QH_D2194': {'index': 100},\n",
       "  'FS1_CSS:QV_D2202': {'index': 104}},\n",
       " 'df':   FS1_CSS:QH_D2194 FS1_CSS:QV_D2202\n",
       "                 B2               B2\n",
       " 0          5.80901        -18.93859\n",
       " 1          9.13155        -18.93859\n",
       " 2         12.45978        -18.93859\n",
       " 3         15.78706        -18.93764\n",
       " 4         17.77842        -18.93859}"
      ]
     },
     "execution_count": 30,
     "metadata": {},
     "output_type": "execute_result"
    }
   ],
   "source": [
    "fm_evals"
   ]
  },
  {
   "cell_type": "code",
   "execution_count": 37,
   "id": "225b2e80",
   "metadata": {},
   "outputs": [
    {
     "data": {
      "text/html": [
       "<div>\n",
       "<style scoped>\n",
       "    .dataframe tbody tr th:only-of-type {\n",
       "        vertical-align: middle;\n",
       "    }\n",
       "\n",
       "    .dataframe tbody tr th {\n",
       "        vertical-align: top;\n",
       "    }\n",
       "\n",
       "    .dataframe thead tr th {\n",
       "        text-align: left;\n",
       "    }\n",
       "</style>\n",
       "<table border=\"1\" class=\"dataframe\">\n",
       "  <thead>\n",
       "    <tr>\n",
       "      <th></th>\n",
       "      <th colspan=\"3\" halign=\"left\">FS1_CSS:PM_D2225</th>\n",
       "    </tr>\n",
       "    <tr>\n",
       "      <th></th>\n",
       "      <th>xrms</th>\n",
       "      <th>yrms</th>\n",
       "      <th>cxy</th>\n",
       "    </tr>\n",
       "  </thead>\n",
       "  <tbody>\n",
       "    <tr>\n",
       "      <th>0</th>\n",
       "      <td>4.52589</td>\n",
       "      <td>2.59599</td>\n",
       "      <td>-0.12994</td>\n",
       "    </tr>\n",
       "    <tr>\n",
       "      <th>1</th>\n",
       "      <td>2.84988</td>\n",
       "      <td>1.41192</td>\n",
       "      <td>-0.24693</td>\n",
       "    </tr>\n",
       "    <tr>\n",
       "      <th>2</th>\n",
       "      <td>0.82170</td>\n",
       "      <td>0.27531</td>\n",
       "      <td>-0.53060</td>\n",
       "    </tr>\n",
       "    <tr>\n",
       "      <th>3</th>\n",
       "      <td>0.77869</td>\n",
       "      <td>0.89517</td>\n",
       "      <td>0.94633</td>\n",
       "    </tr>\n",
       "    <tr>\n",
       "      <th>4</th>\n",
       "      <td>1.76531</td>\n",
       "      <td>1.64620</td>\n",
       "      <td>0.63328</td>\n",
       "    </tr>\n",
       "  </tbody>\n",
       "</table>\n",
       "</div>"
      ],
      "text/plain": [
       "  FS1_CSS:PM_D2225                  \n",
       "              xrms     yrms      cxy\n",
       "0          4.52589  2.59599 -0.12994\n",
       "1          2.84988  1.41192 -0.24693\n",
       "2          0.82170  0.27531 -0.53060\n",
       "3          0.77869  0.89517  0.94633\n",
       "4          1.76531  1.64620  0.63328"
      ]
     },
     "execution_count": 37,
     "metadata": {},
     "output_type": "execute_result"
    }
   ],
   "source": [
    "fm_goals['df']"
   ]
  },
  {
   "cell_type": "code",
   "execution_count": 32,
   "id": "e3a06cc7",
   "metadata": {},
   "outputs": [
    {
     "data": {
      "text/html": [
       "<div>\n",
       "<style scoped>\n",
       "    .dataframe tbody tr th:only-of-type {\n",
       "        vertical-align: middle;\n",
       "    }\n",
       "\n",
       "    .dataframe tbody tr th {\n",
       "        vertical-align: top;\n",
       "    }\n",
       "\n",
       "    .dataframe thead tr th {\n",
       "        text-align: left;\n",
       "    }\n",
       "</style>\n",
       "<table border=\"1\" class=\"dataframe\">\n",
       "  <thead>\n",
       "    <tr>\n",
       "      <th></th>\n",
       "      <th colspan=\"3\" halign=\"left\">FS1_CSS:PM_D2225</th>\n",
       "    </tr>\n",
       "    <tr>\n",
       "      <th></th>\n",
       "      <th>xrms</th>\n",
       "      <th>yrms</th>\n",
       "      <th>cxy</th>\n",
       "    </tr>\n",
       "  </thead>\n",
       "  <tbody>\n",
       "    <tr>\n",
       "      <th>0</th>\n",
       "      <td>4.546875</td>\n",
       "      <td>2.598493</td>\n",
       "      <td>-0.135658</td>\n",
       "    </tr>\n",
       "    <tr>\n",
       "      <th>1</th>\n",
       "      <td>2.855035</td>\n",
       "      <td>1.411500</td>\n",
       "      <td>-0.248832</td>\n",
       "    </tr>\n",
       "    <tr>\n",
       "      <th>2</th>\n",
       "      <td>0.817936</td>\n",
       "      <td>0.261902</td>\n",
       "      <td>-0.981956</td>\n",
       "    </tr>\n",
       "    <tr>\n",
       "      <th>3</th>\n",
       "      <td>0.779362</td>\n",
       "      <td>0.890777</td>\n",
       "      <td>NaN</td>\n",
       "    </tr>\n",
       "    <tr>\n",
       "      <th>4</th>\n",
       "      <td>1.770425</td>\n",
       "      <td>1.644557</td>\n",
       "      <td>0.630530</td>\n",
       "    </tr>\n",
       "  </tbody>\n",
       "</table>\n",
       "</div>"
      ],
      "text/plain": [
       "  FS1_CSS:PM_D2225                    \n",
       "              xrms      yrms       cxy\n",
       "0         4.546875  2.598493 -0.135658\n",
       "1         2.855035  1.411500 -0.248832\n",
       "2         0.817936  0.261902 -0.981956\n",
       "3         0.779362  0.890777       NaN\n",
       "4         1.770425  1.644557  0.630530"
      ]
     },
     "execution_count": 32,
     "metadata": {},
     "output_type": "execute_result"
    }
   ],
   "source": [
    "fm_goals_postprocessed['df']"
   ]
  },
  {
   "cell_type": "code",
   "execution_count": 33,
   "id": "bf29f98a",
   "metadata": {},
   "outputs": [
    {
     "data": {
      "text/html": [
       "<div>\n",
       "<style scoped>\n",
       "    .dataframe tbody tr th:only-of-type {\n",
       "        vertical-align: middle;\n",
       "    }\n",
       "\n",
       "    .dataframe tbody tr th {\n",
       "        vertical-align: top;\n",
       "    }\n",
       "\n",
       "    .dataframe thead tr th {\n",
       "        text-align: left;\n",
       "    }\n",
       "</style>\n",
       "<table border=\"1\" class=\"dataframe\">\n",
       "  <thead>\n",
       "    <tr>\n",
       "      <th></th>\n",
       "      <th colspan=\"3\" halign=\"left\">FS1_CSS:PM_D2225</th>\n",
       "    </tr>\n",
       "    <tr>\n",
       "      <th></th>\n",
       "      <th>xrms</th>\n",
       "      <th>yrms</th>\n",
       "      <th>cxy</th>\n",
       "    </tr>\n",
       "  </thead>\n",
       "  <tbody>\n",
       "    <tr>\n",
       "      <th>0</th>\n",
       "      <td>0.014659</td>\n",
       "      <td>0.008966</td>\n",
       "      <td>0.010210</td>\n",
       "    </tr>\n",
       "    <tr>\n",
       "      <th>1</th>\n",
       "      <td>0.009872</td>\n",
       "      <td>0.004643</td>\n",
       "      <td>0.025678</td>\n",
       "    </tr>\n",
       "    <tr>\n",
       "      <th>2</th>\n",
       "      <td>0.013826</td>\n",
       "      <td>0.001386</td>\n",
       "      <td>0.056569</td>\n",
       "    </tr>\n",
       "    <tr>\n",
       "      <th>3</th>\n",
       "      <td>0.004122</td>\n",
       "      <td>0.013816</td>\n",
       "      <td>NaN</td>\n",
       "    </tr>\n",
       "    <tr>\n",
       "      <th>4</th>\n",
       "      <td>0.012062</td>\n",
       "      <td>0.003671</td>\n",
       "      <td>0.028066</td>\n",
       "    </tr>\n",
       "  </tbody>\n",
       "</table>\n",
       "</div>"
      ],
      "text/plain": [
       "  FS1_CSS:PM_D2225                    \n",
       "              xrms      yrms       cxy\n",
       "0         0.014659  0.008966  0.010210\n",
       "1         0.009872  0.004643  0.025678\n",
       "2         0.013826  0.001386  0.056569\n",
       "3         0.004122  0.013816       NaN\n",
       "4         0.012062  0.003671  0.028066"
      ]
     },
     "execution_count": 33,
     "metadata": {},
     "output_type": "execute_result"
    }
   ],
   "source": [
    "fm_goals_err"
   ]
  },
  {
   "cell_type": "markdown",
   "id": "0f5b3d36",
   "metadata": {},
   "source": [
    "### compare fittings"
   ]
  },
  {
   "cell_type": "code",
   "execution_count": 34,
   "id": "a1c1d0cc",
   "metadata": {},
   "outputs": [
    {
     "name": "stdout",
     "output_type": "stream",
     "text": [
      "0-th trial, current_loss: 0.00601, best_loss: 0.00601\n",
      "2-th trial, current_loss: 0.00558, best_loss: 0.00558\n"
     ]
    },
    {
     "data": {
      "text/plain": [
       "(array([0.77847001, 4.11063693, 0.3906975 ]),\n",
       " 0.440546693051434,\n",
       " array([-1.04183974,  0.50529695,  4.1271376 ]),\n",
       " 0.08266279033265349)"
      ]
     },
     "execution_count": 34,
     "metadata": {},
     "output_type": "execute_result"
    }
   ],
   "source": [
    "fh.fit_moment1(fm,fm_evals,fm_goals_postprocessed,stop_criteria=0.1)\n",
    "fm.bmstate.get_twiss('x'), fm.bmstate.xemittance, fm.bmstate.get_twiss('y'), fm.bmstate.yemittance"
   ]
  },
  {
   "cell_type": "code",
   "execution_count": 35,
   "id": "c7b6c1b0",
   "metadata": {},
   "outputs": [
    {
     "name": "stdout",
     "output_type": "stream",
     "text": [
      "0-th trial, current_loss: 0.0122, best_loss: 0.0122\n",
      "2-th trial, current_loss: 0.00926, best_loss: 0.00926\n"
     ]
    },
    {
     "data": {
      "text/plain": [
       "(array([0.89233925, 4.02610498, 0.44615561]),\n",
       " 0.07300674976903589,\n",
       " array([-0.12933039,  0.61222059,  1.66071898]),\n",
       " 0.04376418444247883)"
      ]
     },
     "execution_count": 35,
     "metadata": {},
     "output_type": "execute_result"
    }
   ],
   "source": [
    "with capture_warnings():\n",
    "    fh.fit_moment1(fm,fm_evals,fm_goals)\n",
    "fm.bmstate.get_twiss('x'), fm.bmstate.xnemittance, fm.bmstate.get_twiss('y'), fm.bmstate.ynemittance"
   ]
  },
  {
   "cell_type": "code",
   "execution_count": 36,
   "id": "bf962acb",
   "metadata": {},
   "outputs": [
    {
     "data": {
      "text/plain": [
       "(array([0.23605528, 5.52485273, 0.19108602]),\n",
       " 0.15995440836890312,\n",
       " array([0.55042092, 2.32559386, 0.56027117]),\n",
       " 0.162190778729358)"
      ]
     },
     "execution_count": 36,
     "metadata": {},
     "output_type": "execute_result"
    }
   ],
   "source": [
    "fm_orig.bmstate.get_twiss('x'), fm_orig.bmstate.xnemittance, fm_orig.bmstate.get_twiss('y'), fm_orig.bmstate.ynemittance"
   ]
  },
  {
   "cell_type": "code",
   "execution_count": null,
   "id": "8e9df7f1",
   "metadata": {},
   "outputs": [],
   "source": []
  },
  {
   "cell_type": "code",
   "execution_count": null,
   "id": "fadd4c15",
   "metadata": {},
   "outputs": [],
   "source": []
  },
  {
   "cell_type": "code",
   "execution_count": null,
   "id": "685a9a4f",
   "metadata": {},
   "outputs": [],
   "source": []
  },
  {
   "cell_type": "code",
   "execution_count": null,
   "id": "649d2208",
   "metadata": {},
   "outputs": [],
   "source": []
  },
  {
   "cell_type": "markdown",
   "id": "36bc4110",
   "metadata": {},
   "source": [
    "from PMpostprocess.PMpostprocess import *\n",
    "\n",
    "def estimate_two_noise_model(y,smoothed):\n",
    "    scaler = np.max(smoothed)-np.min(smoothed)\n",
    "    \n",
    "    y = y/scaler\n",
    "    smoothed = smoothed/scaler\n",
    "    \n",
    "    istart, iend = get_istart_iend_profile(smoothed)\n",
    "    var_ysmooth = np.var(smoothed)\n",
    "    var_noise = np.var(y-smoothed)\n",
    "    \n",
    "    noise_floor_offset, noise_floor_std = estimate_noise_floor(y,istart,iend)\n",
    "    y = cut_boundary(y,istart,iend,noise_floor_offset)\n",
    "    noise_signal_std = np.std(y[istart+1:iend-1]/smoothed[istart+1:iend-1])\n",
    "    \n",
    "    def loss(params):\n",
    "        sigma1, sigma2 = params\n",
    "        estimated_var_noise = sigma1**2 + sigma2**2 * var_ysmooth\n",
    "        regularization = (sigma1/noise_floor_std-1)**2 + (sigma2/noise_signal_std-1)**2\n",
    "        return 0.1*(estimated_var_noise/var_noise-1)**2 + 0.9*regularization\n",
    "\n",
    "    result = minimize(loss, [noise_floor_std,noise_signal_std], bounds=[(0, 0.2), (0, 0.2)])\n",
    "    noise_floor_std,noise_signal_std = result.x[0]*scaler,result.x[1]\n",
    "    \n",
    "    return noise_floor_std,noise_signal_std\n",
    "\n",
    "def smooth_n_wire_deconvolve(x,y,r):#,finetune_deconv=False):\n",
    "    \"\"\"\n",
    "    x : position array\n",
    "    y : signal array\n",
    "    r : wire radius\n",
    "    \"\"\"    \n",
    "    xu, smoothed = gaussian_smooth_with_deconvolution(x, y,is_x_uniform=False)\n",
    "    yu = interp1d(x, y)(xu)\n",
    "    n = len(xu)\n",
    "    if r is not None and r > 0:\n",
    "        xu, wire_deconvolved = wire_deconvolution(xu,smoothed,r,is_x_uniform=True)\n",
    "    else:\n",
    "        wire_deconvolved = smoothed\n",
    "    \n",
    "    istart, iend = get_istart_iend_profile(smoothed)\n",
    "    noise_offset, _ = estimate_noise_floor(yu,istart,iend)\n",
    "    yu = cut_boundary(yu,istart,iend,noise_offset)\n",
    "    \n",
    "    rms_beam_size   = measure_rms_size(xu, yu)\n",
    "    rms_smooth_size = measure_rms_size(xu, smoothed)\n",
    "    rms_deconv_size = measure_rms_size(xu, wire_deconvolved)\n",
    "    \n",
    "    smoothed = interp1d(xu,smoothed)(x)\n",
    "    wire_deconvolved = interp1d(xu,wire_deconvolved)(x)\n",
    "    \n",
    "    return smoothed, wire_deconvolved, rms_beam_size, rms_smooth_size, rms_deconv_size\n",
    "    \n",
    "    \n",
    "def rms_uncertainty_quantification(x,smoothed, noise_floor_std, noise_signal_std, r=None, nMC=100):\n",
    "    arr_deconv_rms = np.zeros(nMC)\n",
    "    arr_smooth_rms = np.zeros(nMC)\n",
    "    arr_noisy_rms = np.zeros(nMC)\n",
    "    arr_y_samples = np.zeros((nMC,len(x)))\n",
    "    for i in range(nMC):\n",
    "        y_ = smoothed*(1+noise_signal_std*np.random.randn(*x.shape)) + noise_floor_std*np.random.randn(*x.shape)\n",
    "        _,_, noisy_rms, smooth_rms, deconv_rms = smooth_n_wire_deconvolve(x,y_,r)\n",
    "        arr_smooth_rms[i] = smooth_rms\n",
    "        arr_deconv_rms[i] = deconv_rms\n",
    "        arr_noisy_rms[i] = noisy_rms\n",
    "        arr_y_samples[i] = y_\n",
    "\n",
    "    # Calculating statistics\n",
    "    smooth_mean, smooth_std = np.nanmean(arr_smooth_rms), np.nanstd(arr_smooth_rms)\n",
    "    deconv_mean, deconv_std = np.nanmean(arr_deconv_rms), np.nanstd(arr_deconv_rms)\n",
    "    noisy_mean , noisy_std  = np.nanmean(arr_noisy_rms), np.nanstd(arr_noisy_rms)\n",
    "\n",
    "    return {\n",
    "            \"smooth_mean\": smooth_mean,\n",
    "            \"smooth_std\": smooth_std,\n",
    "            \"deconv_mean\": deconv_mean,\n",
    "            \"deconv_std\": deconv_std,\n",
    "            \"noisy_mean\": noisy_mean,\n",
    "            \"noisy_std\": noisy_std,\n",
    "            \"y_samples\": arr_y_samples,\n",
    "            }\n",
    "    \n",
    "def process_raw_profile(x,y,r):\n",
    "    smoothed, wire_deconvolved, rms_noisy, rms_smooth, rms_deconv = smooth_n_wire_deconvolve(x,y,r)\n",
    "    noise_floor_std,noise_signal_std = estimate_two_noise_model(y,smoothed)\n",
    "    stat = rms_uncertainty_quantification(x, smoothed, noise_floor_std, noise_signal_std, r, nMC=100)\n",
    "    \n",
    "#     fig, axes = plt.subplots(1, 2, figsize=(14, 5), dpi=96)  # Create a figure with two subplots in a row\n",
    "#     axes[0].plot(x, y, color=\"black\", label=f\"Noisy Profile,  $\\\\sigma_x$={rms_noisy:.3f} $\\\\pm$ {stat['noisy_std']:.3f} mm\")\n",
    "#     axes[0].plot(x, smoothed, color=\"green\", label=f\"Smoothed,   $\\\\sigma_x$={rms_smooth:.3f} $\\\\pm$ {stat['smooth_std']:.3f} mm\")\n",
    "#     axes[0].plot(x, wire_deconvolved, '--', color=\"red\", label=f\"DeConvolved, $\\\\sigma_x$={rms_deconv:.3f} $\\\\pm$ {stat['deconv_std']:.3f} mm\")\n",
    "#     axes[0].legend()\n",
    "#     axes[0].set_xlabel(\"Position (mm)\")\n",
    "#     axes[0].set_ylabel(\"Signal Strength\")\n",
    "#     axes[0].set_ylim(0, 1.4 * max(y))\n",
    "#     axes[0].set_title(f\"Wire-thickness: {r:.3f} $mm$\")\n",
    "\n",
    "#     axes[1].plot(x, y - smoothed, 'k', label=\"Noisy - Smoothed\")\n",
    "#     for i in range(4):\n",
    "#         y_ = stat['y_samples'][i]\n",
    "#         axes[1].plot(x, y_ - smoothed, ':', label=f\"Sample {i+1}\")\n",
    "#     axes[1].set_xlabel(\"Position (mm)\")\n",
    "#     axes[1].set_ylabel(\"Difference\")\n",
    "#     axes[1].legend()\n",
    "#     axes[1].set_title(\"Differences with Smoothed Profile\")\n",
    "#     # Adjust layout for better spacing\n",
    "#     plt.tight_layout()\n"
   ]
  },
  {
   "cell_type": "raw",
   "id": "b35bc488",
   "metadata": {},
   "source": []
  }
 ],
 "metadata": {
  "kernelspec": {
   "display_name": "Python 3 (ipykernel)",
   "language": "python",
   "name": "python3"
  },
  "language_info": {
   "codemirror_mode": {
    "name": "ipython",
    "version": 3
   },
   "file_extension": ".py",
   "mimetype": "text/x-python",
   "name": "python",
   "nbconvert_exporter": "python",
   "pygments_lexer": "ipython3",
   "version": "3.11.2"
  }
 },
 "nbformat": 4,
 "nbformat_minor": 5
}
